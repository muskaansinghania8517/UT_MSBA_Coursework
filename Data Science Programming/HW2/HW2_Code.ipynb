{
 "cells": [
  {
   "cell_type": "markdown",
   "id": "316e0b4b",
   "metadata": {},
   "source": [
    "# NYC Restaurants"
   ]
  },
  {
   "cell_type": "markdown",
   "id": "a62e8bb4",
   "metadata": {},
   "source": [
    "We will analyze restaurant inspections in New York City, starting November 1, 2014 and ending January 31, 2015. The data is in the file NYC Restaurants.csv\n",
    "\n",
    "### Setup:\n",
    "\n",
    "First, read in this data using:\n",
    "• df = pd.read csv(’NYC Restaurants.csv’, dtype=str).\n",
    "This ensures that all fields are read in as strings, and loading the data is relatively fast."
   ]
  },
  {
   "cell_type": "code",
   "execution_count": 1,
   "id": "e32d4f9f",
   "metadata": {},
   "outputs": [],
   "source": [
    "import pandas as pd\n",
    "df = pd.read_csv('NYC_Restaurants.csv', dtype=str)"
   ]
  },
  {
   "cell_type": "code",
   "execution_count": 2,
   "id": "be6536ff",
   "metadata": {},
   "outputs": [
    {
     "data": {
      "text/html": [
       "<div>\n",
       "<style scoped>\n",
       "    .dataframe tbody tr th:only-of-type {\n",
       "        vertical-align: middle;\n",
       "    }\n",
       "\n",
       "    .dataframe tbody tr th {\n",
       "        vertical-align: top;\n",
       "    }\n",
       "\n",
       "    .dataframe thead th {\n",
       "        text-align: right;\n",
       "    }\n",
       "</style>\n",
       "<table border=\"1\" class=\"dataframe\">\n",
       "  <thead>\n",
       "    <tr style=\"text-align: right;\">\n",
       "      <th></th>\n",
       "      <th>Unnamed: 0</th>\n",
       "      <th>CAMIS</th>\n",
       "      <th>DBA</th>\n",
       "      <th>BORO</th>\n",
       "      <th>BUILDING</th>\n",
       "      <th>STREET</th>\n",
       "      <th>ZIPCODE</th>\n",
       "      <th>PHONE</th>\n",
       "      <th>CUISINE DESCRIPTION</th>\n",
       "      <th>INSPECTION DATE</th>\n",
       "      <th>ACTION</th>\n",
       "      <th>VIOLATION CODE</th>\n",
       "      <th>VIOLATION DESCRIPTION</th>\n",
       "      <th>CRITICAL FLAG</th>\n",
       "      <th>SCORE</th>\n",
       "      <th>GRADE</th>\n",
       "      <th>GRADE DATE</th>\n",
       "      <th>RECORD DATE</th>\n",
       "      <th>INSPECTION TYPE</th>\n",
       "    </tr>\n",
       "  </thead>\n",
       "  <tbody>\n",
       "    <tr>\n",
       "      <th>0</th>\n",
       "      <td>0</td>\n",
       "      <td>30112340</td>\n",
       "      <td>WENDY'S</td>\n",
       "      <td>BROOKLYN</td>\n",
       "      <td>469</td>\n",
       "      <td>FLATBUSH AVENUE</td>\n",
       "      <td>11225</td>\n",
       "      <td>7182875005</td>\n",
       "      <td>Hamburgers</td>\n",
       "      <td>12/30/2014</td>\n",
       "      <td>Violations were cited in the following area(s).</td>\n",
       "      <td>06C</td>\n",
       "      <td>Food not protected from potential source of co...</td>\n",
       "      <td>Critical</td>\n",
       "      <td>8</td>\n",
       "      <td>A</td>\n",
       "      <td>12/30/2014</td>\n",
       "      <td>02/12/2015</td>\n",
       "      <td>Cycle Inspection / Re-inspection</td>\n",
       "    </tr>\n",
       "    <tr>\n",
       "      <th>1</th>\n",
       "      <td>1</td>\n",
       "      <td>30112340</td>\n",
       "      <td>WENDY'S</td>\n",
       "      <td>BROOKLYN</td>\n",
       "      <td>469</td>\n",
       "      <td>FLATBUSH AVENUE</td>\n",
       "      <td>11225</td>\n",
       "      <td>7182875005</td>\n",
       "      <td>Hamburgers</td>\n",
       "      <td>12/30/2014</td>\n",
       "      <td>Violations were cited in the following area(s).</td>\n",
       "      <td>10F</td>\n",
       "      <td>Non-food contact surface improperly constructe...</td>\n",
       "      <td>Not Critical</td>\n",
       "      <td>8</td>\n",
       "      <td>A</td>\n",
       "      <td>12/30/2014</td>\n",
       "      <td>02/12/2015</td>\n",
       "      <td>Cycle Inspection / Re-inspection</td>\n",
       "    </tr>\n",
       "    <tr>\n",
       "      <th>2</th>\n",
       "      <td>2</td>\n",
       "      <td>30112340</td>\n",
       "      <td>WENDY'S</td>\n",
       "      <td>BROOKLYN</td>\n",
       "      <td>469</td>\n",
       "      <td>FLATBUSH AVENUE</td>\n",
       "      <td>11225</td>\n",
       "      <td>7182875005</td>\n",
       "      <td>Hamburgers</td>\n",
       "      <td>11/13/2014</td>\n",
       "      <td>Violations were cited in the following area(s).</td>\n",
       "      <td>04H</td>\n",
       "      <td>Raw, cooked or prepared food is adulterated, c...</td>\n",
       "      <td>Critical</td>\n",
       "      <td>16</td>\n",
       "      <td>NaN</td>\n",
       "      <td>NaN</td>\n",
       "      <td>02/12/2015</td>\n",
       "      <td>Cycle Inspection / Initial Inspection</td>\n",
       "    </tr>\n",
       "    <tr>\n",
       "      <th>3</th>\n",
       "      <td>3</td>\n",
       "      <td>30112340</td>\n",
       "      <td>WENDY'S</td>\n",
       "      <td>BROOKLYN</td>\n",
       "      <td>469</td>\n",
       "      <td>FLATBUSH AVENUE</td>\n",
       "      <td>11225</td>\n",
       "      <td>7182875005</td>\n",
       "      <td>Hamburgers</td>\n",
       "      <td>11/13/2014</td>\n",
       "      <td>Violations were cited in the following area(s).</td>\n",
       "      <td>06A</td>\n",
       "      <td>Personal cleanliness inadequate. Outer garment...</td>\n",
       "      <td>Critical</td>\n",
       "      <td>16</td>\n",
       "      <td>NaN</td>\n",
       "      <td>NaN</td>\n",
       "      <td>02/12/2015</td>\n",
       "      <td>Cycle Inspection / Initial Inspection</td>\n",
       "    </tr>\n",
       "    <tr>\n",
       "      <th>4</th>\n",
       "      <td>4</td>\n",
       "      <td>30112340</td>\n",
       "      <td>WENDY'S</td>\n",
       "      <td>BROOKLYN</td>\n",
       "      <td>469</td>\n",
       "      <td>FLATBUSH AVENUE</td>\n",
       "      <td>11225</td>\n",
       "      <td>7182875005</td>\n",
       "      <td>Hamburgers</td>\n",
       "      <td>11/13/2014</td>\n",
       "      <td>Violations were cited in the following area(s).</td>\n",
       "      <td>10F</td>\n",
       "      <td>Non-food contact surface improperly constructe...</td>\n",
       "      <td>Not Critical</td>\n",
       "      <td>16</td>\n",
       "      <td>NaN</td>\n",
       "      <td>NaN</td>\n",
       "      <td>02/12/2015</td>\n",
       "      <td>Cycle Inspection / Initial Inspection</td>\n",
       "    </tr>\n",
       "  </tbody>\n",
       "</table>\n",
       "</div>"
      ],
      "text/plain": [
       "  Unnamed: 0     CAMIS      DBA      BORO BUILDING           STREET ZIPCODE  \\\n",
       "0          0  30112340  WENDY'S  BROOKLYN      469  FLATBUSH AVENUE   11225   \n",
       "1          1  30112340  WENDY'S  BROOKLYN      469  FLATBUSH AVENUE   11225   \n",
       "2          2  30112340  WENDY'S  BROOKLYN      469  FLATBUSH AVENUE   11225   \n",
       "3          3  30112340  WENDY'S  BROOKLYN      469  FLATBUSH AVENUE   11225   \n",
       "4          4  30112340  WENDY'S  BROOKLYN      469  FLATBUSH AVENUE   11225   \n",
       "\n",
       "        PHONE CUISINE DESCRIPTION INSPECTION DATE  \\\n",
       "0  7182875005          Hamburgers      12/30/2014   \n",
       "1  7182875005          Hamburgers      12/30/2014   \n",
       "2  7182875005          Hamburgers      11/13/2014   \n",
       "3  7182875005          Hamburgers      11/13/2014   \n",
       "4  7182875005          Hamburgers      11/13/2014   \n",
       "\n",
       "                                            ACTION VIOLATION CODE  \\\n",
       "0  Violations were cited in the following area(s).            06C   \n",
       "1  Violations were cited in the following area(s).            10F   \n",
       "2  Violations were cited in the following area(s).            04H   \n",
       "3  Violations were cited in the following area(s).            06A   \n",
       "4  Violations were cited in the following area(s).            10F   \n",
       "\n",
       "                               VIOLATION DESCRIPTION CRITICAL FLAG SCORE  \\\n",
       "0  Food not protected from potential source of co...      Critical     8   \n",
       "1  Non-food contact surface improperly constructe...  Not Critical     8   \n",
       "2  Raw, cooked or prepared food is adulterated, c...      Critical    16   \n",
       "3  Personal cleanliness inadequate. Outer garment...      Critical    16   \n",
       "4  Non-food contact surface improperly constructe...  Not Critical    16   \n",
       "\n",
       "  GRADE  GRADE DATE RECORD DATE                        INSPECTION TYPE  \n",
       "0     A  12/30/2014  02/12/2015       Cycle Inspection / Re-inspection  \n",
       "1     A  12/30/2014  02/12/2015       Cycle Inspection / Re-inspection  \n",
       "2   NaN         NaN  02/12/2015  Cycle Inspection / Initial Inspection  \n",
       "3   NaN         NaN  02/12/2015  Cycle Inspection / Initial Inspection  \n",
       "4   NaN         NaN  02/12/2015  Cycle Inspection / Initial Inspection  "
      ]
     },
     "execution_count": 2,
     "metadata": {},
     "output_type": "execute_result"
    }
   ],
   "source": [
    "df.head()"
   ]
  },
  {
   "cell_type": "markdown",
   "id": "a546ed8a",
   "metadata": {},
   "source": [
    "### Q1 - 6 points: Create a unique name for each restaurant. \n",
    "\n",
    "On the DataFrame created above, add a new column to your DataFrame, called ’RESTAURANT’, that combines DBA, BUILDING, STREET, ZIPCODE, and BORO fields. For example, “WENDY’S 469 FLATBUSH AVENUE 11225 BROOKLYN”. Print the first 10 values of the RESTAURANT column of your DataFrame."
   ]
  },
  {
   "cell_type": "code",
   "execution_count": 3,
   "id": "cbf4e98f",
   "metadata": {},
   "outputs": [],
   "source": [
    "df['RESTAURANT'] = df['DBA']+ ' ' +df['BUILDING']+' ' + \\\n",
    "df['STREET']+ ' ' + df['ZIPCODE'] +  ' ' + df['BORO']"
   ]
  },
  {
   "cell_type": "code",
   "execution_count": 4,
   "id": "8519f296",
   "metadata": {},
   "outputs": [
    {
     "data": {
      "text/plain": [
       "0           WENDY'S 469 FLATBUSH AVENUE 11225 BROOKLYN\n",
       "1           WENDY'S 469 FLATBUSH AVENUE 11225 BROOKLYN\n",
       "2           WENDY'S 469 FLATBUSH AVENUE 11225 BROOKLYN\n",
       "3           WENDY'S 469 FLATBUSH AVENUE 11225 BROOKLYN\n",
       "4           WENDY'S 469 FLATBUSH AVENUE 11225 BROOKLYN\n",
       "5        TOV KOSHER KITCHEN 97-22 63 ROAD 11374 QUEENS\n",
       "6        TOV KOSHER KITCHEN 97-22 63 ROAD 11374 QUEENS\n",
       "7        TOV KOSHER KITCHEN 97-22 63 ROAD 11374 QUEENS\n",
       "8        TOV KOSHER KITCHEN 97-22 63 ROAD 11374 QUEENS\n",
       "9    BRUNOS ON THE BOULEVARD 8825 ASTORIA BOULEVARD...\n",
       "Name: RESTAURANT, dtype: object"
      ]
     },
     "execution_count": 4,
     "metadata": {},
     "output_type": "execute_result"
    }
   ],
   "source": [
    "df['RESTAURANT'].iloc[:10]"
   ]
  },
  {
   "cell_type": "markdown",
   "id": "3f0e4b6f",
   "metadata": {},
   "source": [
    "### Q2 - 6 points: How many restaurants are included in the data?\n",
    "Careful now:\n",
    "• A “Subway” in one particular address (i.e., building, street, zipcode, and boro) counts as one restaurant; don’t combine all Subways into one restaurant!\n",
    "• The data can have multiple violations for the same restaurant!\n"
   ]
  },
  {
   "cell_type": "code",
   "execution_count": 5,
   "id": "c8848188",
   "metadata": {},
   "outputs": [
    {
     "data": {
      "text/plain": [
       "10114"
      ]
     },
     "execution_count": 5,
     "metadata": {},
     "output_type": "execute_result"
    }
   ],
   "source": [
    "df['RESTAURANT'].nunique()"
   ]
  },
  {
   "cell_type": "markdown",
   "id": "378a5592",
   "metadata": {},
   "source": [
    "### Q3 - 6 points: How many chains are there? \n",
    "Let us define a chain to be the same restaurant name occurring in at least two different (building, street, zipcode, boro) addresses (i.e., one DBA with multiple restaurant locations).\n",
    "You’ll see multiple versions of the name ”DUNKIN DONUTS”. Just act as if they are different chains.\n"
   ]
  },
  {
   "cell_type": "code",
   "execution_count": 6,
   "id": "4421f0d3",
   "metadata": {},
   "outputs": [
    {
     "data": {
      "text/plain": [
       "368"
      ]
     },
     "execution_count": 6,
     "metadata": {},
     "output_type": "execute_result"
    }
   ],
   "source": [
    "df_dba_rest = df.drop_duplicates(subset=['DBA', 'RESTAURANT'])\n",
    "df_dba_rest = df_dba_rest[['DBA', 'RESTAURANT']]\n",
    "df_chains = df_dba_rest[df_dba_rest.duplicated(subset=['DBA'],keep=False)]\n",
    "df_chains['DBA'].nunique()"
   ]
  },
  {
   "cell_type": "markdown",
   "id": "f64cae31",
   "metadata": {},
   "source": [
    "### Q4 - 6 points: Plot a bar graph of the top 20 most popular chains.\n",
    "We already have the chains from the previous problem. Count the number of restaurants for each chain as a measure of its popularity."
   ]
  },
  {
   "cell_type": "code",
   "execution_count": 7,
   "id": "d6c4fcf6",
   "metadata": {},
   "outputs": [
    {
     "data": {
      "text/plain": [
       "<AxesSubplot:>"
      ]
     },
     "execution_count": 7,
     "metadata": {},
     "output_type": "execute_result"
    },
    {
     "data": {
      "image/png": "[encoded data removed]",
      "text/plain": [
       "<Figure size 432x288 with 1 Axes>"
      ]
     },
     "metadata": {
      "needs_background": "light"
     },
     "output_type": "display_data"
    }
   ],
   "source": [
    "df_chains['DBA'].value_counts().nlargest(20).plot(kind='bar')"
   ]
  },
  {
   "cell_type": "markdown",
   "id": "e59feb95",
   "metadata": {},
   "source": [
    "### Q5 - 6 points: What fraction of all restaurants are chain restaurants? \n",
    "You should think of a restaurant as being one restaurant at one location. So “Wendy’s 5th Street” and “Wendy’s on 10th Street” are two different restaurants. Essentially a restaurant is what you defined in Q1."
   ]
  },
  {
   "cell_type": "code",
   "execution_count": 8,
   "id": "3f907d22",
   "metadata": {},
   "outputs": [
    {
     "data": {
      "text/plain": [
       "0.16472216729286138"
      ]
     },
     "execution_count": 8,
     "metadata": {},
     "output_type": "execute_result"
    }
   ],
   "source": [
    "len(df_chains)/len(df_dba_rest)"
   ]
  },
  {
   "cell_type": "markdown",
   "id": "b628e6d5",
   "metadata": {},
   "source": [
    "### Q6 - 6 points: Plot the number of non-chain restaurants in each boro. \n",
    "\n",
    "First, we need to figure out all the non-chain restaurants, then select out only those restaurants, and finally plot the number of such restaurants by boro. Make sure to look at the plot; we don’t want to see... oh... the “missing” boro."
   ]
  },
  {
   "cell_type": "code",
   "execution_count": 9,
   "id": "16e312cb",
   "metadata": {},
   "outputs": [
    {
     "data": {
      "text/plain": [
       "<AxesSubplot:>"
      ]
     },
     "execution_count": 9,
     "metadata": {},
     "output_type": "execute_result"
    },
    {
     "data": {
      "image/png": "[encoded data removed]",
      "text/plain": [
       "<Figure size 432x288 with 1 Axes>"
      ]
     },
     "metadata": {
      "needs_background": "light"
     },
     "output_type": "display_data"
    }
   ],
   "source": [
    "df_non_chains = df_dba_rest[-df_dba_rest.duplicated(subset=['DBA'],keep=False)]\n",
    "df_non_chains = df_non_chains.merge(df['BORO'].to_frame(), left_index=True, right_index=True, how='left')\n",
    "df_boro_non = df_non_chains[df_non_chains['BORO']!='Missing']\n",
    "df_boro_non['BORO'].value_counts().plot(kind='bar')"
   ]
  },
  {
   "cell_type": "markdown",
   "id": "f113fbbe",
   "metadata": {},
   "source": [
    "### Q7 - 8 points: Plot the fraction of non-chain restaurants in each boro. \n",
    "The boro with the most non-chain restaurants might just be the boro with the most restaurants in general. If we want to find the boro that attracts the most “independent” restauranteurs, we must divide the number of non-chain restaurants by the total number of restaurants in the boro. Plot this.\n",
    "Is the boro with the most independent restaurants also the one with the highest ratio of independent restaurants?"
   ]
  },
  {
   "cell_type": "code",
   "execution_count": 10,
   "id": "31dad04a",
   "metadata": {},
   "outputs": [
    {
     "data": {
      "text/plain": [
       "<AxesSubplot:>"
      ]
     },
     "execution_count": 10,
     "metadata": {},
     "output_type": "execute_result"
    },
    {
     "data": {
      "image/png": "[encoded data removed]",
      "text/plain": [
       "<Figure size 432x288 with 1 Axes>"
      ]
     },
     "metadata": {
      "needs_background": "light"
     },
     "output_type": "display_data"
    }
   ],
   "source": [
    "df_dba_rest = df_dba_rest.merge(df['BORO'].to_frame(), left_index=True, right_index=True, how='left')\n",
    "df_by_boro_all = df_dba_rest[df_dba_rest['BORO']!='Missing']\n",
    "(df_boro_non['BORO'].value_counts()/df_by_boro_all['BORO'].value_counts()).plot(kind='bar')"
   ]
  },
  {
   "cell_type": "markdown",
   "id": "3c92858e",
   "metadata": {},
   "source": [
    "### Q8 - 6 points: Plot the popularity of cuisines\n",
    "Which cuisines are the most well-represented among all restaurants? Define the popularity of a cuisine as the number of restaurants serving that cuisine. Plot the popularity of the top 20 cuisines."
   ]
  },
  {
   "cell_type": "code",
   "execution_count": 11,
   "id": "4ae6d0dc",
   "metadata": {},
   "outputs": [
    {
     "data": {
      "text/plain": [
       "<AxesSubplot:>"
      ]
     },
     "execution_count": 11,
     "metadata": {},
     "output_type": "execute_result"
    },
    {
     "data": {
      "image/png": "[encoded data removed]",
      "text/plain": [
       "<Figure size 432x288 with 1 Axes>"
      ]
     },
     "metadata": {
      "needs_background": "light"
     },
     "output_type": "display_data"
    }
   ],
   "source": [
    "df_dba_rest = df_dba_rest.merge(df['CUISINE DESCRIPTION'].to_frame(), left_index=True, right_index=True, how='left')\n",
    "df_dba_rest['CUISINE DESCRIPTION'].value_counts().nlargest(20).plot(kind='bar')"
   ]
  },
  {
   "cell_type": "markdown",
   "id": "a3ed3c4c",
   "metadata": {},
   "source": [
    "### Q9 - 9 points: Plot the cuisines among restaurants which never got cited for violations. \n",
    "Ideally, you should explore and see what happens when there is no violation, but here I will just tell you: the ’VIOLATION CODE’ field is missing.\n",
    "First, find the restaurants that were never cited for a code violation. The compute the popularity of each cuisine among these “clean” restaurants. Plot the popularity of the top-20 among these cuisines."
   ]
  },
  {
   "cell_type": "code",
   "execution_count": 12,
   "id": "ab3c0779",
   "metadata": {},
   "outputs": [
    {
     "data": {
      "text/plain": [
       "<AxesSubplot:>"
      ]
     },
     "execution_count": 12,
     "metadata": {},
     "output_type": "execute_result"
    },
    {
     "data": {
      "image/png": "[encoded data removed]",
      "text/plain": [
       "<Figure size 432x288 with 1 Axes>"
      ]
     },
     "metadata": {
      "needs_background": "light"
     },
     "output_type": "display_data"
    }
   ],
   "source": [
    "df_clean = df[df['VIOLATION CODE'].isna()]\n",
    "df_clean = df_clean.drop_duplicates(subset = 'RESTAURANT', keep = 'first')\n",
    "df_not_clean = df[df['VIOLATION CODE'].notna()]\n",
    "df_not_clean = df_not_clean.drop_duplicates(subset = 'RESTAURANT', keep = 'first')\n",
    "df_not_clean_l = df_not_clean[\"RESTAURANT\"].values.tolist()\n",
    "df_clean = df_clean[df_clean['RESTAURANT'].apply(lambda x: x not in df_not_clean_l)]\n",
    "df_clean['CUISINE DESCRIPTION'].value_counts().nlargest(20).plot(kind='bar')"
   ]
  },
  {
   "cell_type": "markdown",
   "id": "8ba92334",
   "metadata": {},
   "source": [
    "### Q10 - 6 points: What cuisines tend to be the “cleanest”?\n",
    "• Select all cuisines for which there were at least 20 restaurants representing that cuisine.\n",
    "• For each such cuisine, compute the ratio of the counts in Q9 to Q8. This is the ratio of restaurants that never got cited, versus total number of restaurants, for each cuisine.\n",
    "• Find the top-10 cuisines with the highest ratios; these are that cuisines whose restaurants are “most likely to be clean.”"
   ]
  },
  {
   "cell_type": "code",
   "execution_count": 13,
   "id": "a75103c1",
   "metadata": {},
   "outputs": [
    {
     "data": {
      "text/plain": [
       "CUISINE DESCRIPTION\n",
       "Soul Food                        0.090909\n",
       "Vietnamese/Cambodian/Malaysia    0.062500\n",
       "Other                            0.058252\n",
       "Barbecue                         0.047619\n",
       "Continental                      0.047619\n",
       "Soups & Sandwiches               0.047619\n",
       "Asian                            0.041096\n",
       "Chinese                          0.038251\n",
       "Greek                            0.036364\n",
       "Peruvian                         0.035714\n",
       "Name: ratio, dtype: float64"
      ]
     },
     "execution_count": 13,
     "metadata": {},
     "output_type": "execute_result"
    }
   ],
   "source": [
    "df_cuisine = df_dba_rest.groupby('CUISINE DESCRIPTION').count()\n",
    "df_cuisine = df_cuisine[df_cuisine['RESTAURANT'] >= 20]\n",
    "df_cuisine = df_cuisine[['RESTAURANT']]\n",
    "df_cuisine['ratio'] = df_clean['CUISINE DESCRIPTION'].value_counts()/df_dba_rest['CUISINE DESCRIPTION'].value_counts()\n",
    "df_cuisine['ratio'].nlargest(10)"
   ]
  },
  {
   "cell_type": "markdown",
   "id": "e51ec354",
   "metadata": {},
   "source": [
    "### Q11 - 8 points: What are the most common violations in each borough? \n",
    "Create a table of the number of times each violation description was observed in each borough, and figure out the most common violation description for each borough.\n",
    "To create the table, check out the crosstab function. We will see a more general version of this when we discuss groupby in class.\n",
    "Once you do have the table, you will still need to find the most common violation description for each borough.\n"
   ]
  },
  {
   "cell_type": "code",
   "execution_count": 14,
   "id": "e7a07a54",
   "metadata": {},
   "outputs": [
    {
     "data": {
      "text/plain": [
       "BORO\n",
       "BRONX            Non-food contact surface improperly constructe...\n",
       "BROOKLYN         Non-food contact surface improperly constructe...\n",
       "MANHATTAN        Non-food contact surface improperly constructe...\n",
       "Missing          Non-food contact surface improperly constructe...\n",
       "QUEENS           Non-food contact surface improperly constructe...\n",
       "STATEN ISLAND    Non-food contact surface improperly constructe...\n",
       "dtype: object"
      ]
     },
     "execution_count": 14,
     "metadata": {},
     "output_type": "execute_result"
    }
   ],
   "source": [
    "df_boro_vio = pd.crosstab(df['VIOLATION DESCRIPTION'], df['BORO'])\n",
    "df_boro_vio.idxmax()"
   ]
  },
  {
   "cell_type": "markdown",
   "id": "54bf17a9",
   "metadata": {},
   "source": [
    "### Q12 - 9 points: What are the most common violations per borough, after normalizing for the relative abundance of each violation? \n",
    "Hopefully, the answer to the previous question left you unsatisfied, because some violations are just very common, irrespective of borough. A better approach would be to normalize the violation counts, as follows.\n",
    "• Get overall frequencies: Figure out how common each violation is, over the entire dataset; let’s call this violationFrequency.\n",
    "• Normalize: Consider the table of number of violations by boro that you created for the previous question. For each borough, divide the number of violations of each type by the total number of violations for that type; i.e., divide the series of violations by violationFrequency. We want to do this for each borough.\n",
    "• Find the biggest violations: Now, after this normalization, for each borough, figure out the most common violation description.\n"
   ]
  },
  {
   "cell_type": "code",
   "execution_count": 15,
   "id": "bb54b6c0",
   "metadata": {},
   "outputs": [
    {
     "data": {
      "text/plain": [
       "BORO\n",
       "BRONX                                  Unprotected food re-served.\n",
       "BROOKLYN         Precooked potentially hazardous food from comm...\n",
       "MANHATTAN        Out-of package sale of tobacco products observed.\n",
       "Missing          ''''Wash hands\u001a sign not posted at hand wash f...\n",
       "QUEENS           Caloric content range (minimum to maximum) not...\n",
       "STATEN ISLAND    Eggs found dirty/cracked; liquid, frozen or po...\n",
       "dtype: object"
      ]
     },
     "execution_count": 15,
     "metadata": {},
     "output_type": "execute_result"
    }
   ],
   "source": [
    "df_boro_vio = pd.crosstab(df['VIOLATION DESCRIPTION'], df['BORO'], normalize = 'index')\n",
    "df_boro_vio.idxmax()"
   ]
  },
  {
   "cell_type": "markdown",
   "id": "e79f6af9",
   "metadata": {},
   "source": [
    "### Q13 - 8 points: How many phone area codes correspond to a single zipcode? \n",
    "The first three digits of the restaurant phone numbers are their area codes. The area codes do not generally align with zip codes, but some area codes are only for a single zip code. You must figure out how many area codes have this property.\n",
    "• To extract the first 3 characters of the phone number, recall that strings are pretty similar to lists."
   ]
  },
  {
   "cell_type": "code",
   "execution_count": 16,
   "id": "85d742ad",
   "metadata": {},
   "outputs": [
    {
     "data": {
      "text/plain": [
       "34"
      ]
     },
     "execution_count": 16,
     "metadata": {},
     "output_type": "execute_result"
    }
   ],
   "source": [
    "df_code = pd.DataFrame()\n",
    "df_code['area_code'] = df['PHONE'].apply(lambda x: x[:3])\n",
    "df_code['ZIPCODE'] = df['ZIPCODE']\n",
    "df_code = df_code.drop_duplicates(subset = ['ZIPCODE', 'area_code'], keep = 'first')\n",
    "df_code_match = df_code['area_code'].value_counts(ascending = True)\n",
    "df_code_match[df_code_match == 1].count()"
   ]
  },
  {
   "cell_type": "markdown",
   "id": "5e90d95b",
   "metadata": {},
   "source": [
    "### Q14 - 10 points: Find common misspellings of street names \n",
    "Sometimes, it’s Avenue, and sometimes, it’s Ave. We will try to come up with an automated way to find common misspellings. The idea is the following: if Ave and Avenue are the same, they should show up often in similar-sounding street names, e.g., Lexington Ave and Lexington Avenue.\n",
    "• Create a new column, called STREET TYPE, which is the the last word in the name of the street. For example, if the street is “Astoria Boule- vard”, the street type should be “Boulevard”.\n",
    "• Create another column, called STREET BASE, which contains everything but the last word in the name of the street. For example, if the street is “Astoria Boulevard”, the street base should be “Astoria”.\n",
    "• Create a third column, called STREET BASE & ZIP, that combines the street base and the zipcode.\n",
    "• Create a table containing just these three columns, and remove any duplicates or instances where street base is empty. This table now contains unique street names, along with the street type.\n",
    "• Merge this table with itself, on the STREET BASE & ZIP column. Thus, in the new merged tabled, we will have two STREET TYPE fields for each street base and zipcode. For example, if both Lexington Ave and Lexington Avenue exist in the same zipcode, we will get a row for the street base Lexington and the two street types Ave and Avenue.\n",
    "• From the merged table, select only the rows where the street types are different.\n",
    "• Now, do a cross-tabulation of the two distinct street types (check out the crosstab function in Pandas). This gives us the number of times Ave and Avenue were used with the same STREET BASE & ZIP.\n",
    "• From this cross-tabulation table, find the most commonly street type that occurs with each of the following: AVE, ST, RD, PL, BOULEARD, and BULEVARD."
   ]
  },
  {
   "cell_type": "code",
   "execution_count": 17,
   "id": "5ba35788",
   "metadata": {},
   "outputs": [
    {
     "data": {
      "text/plain": [
       "STREET TYPE_y\n",
       "AVE         AVENUE\n",
       "ST          STREET\n",
       "RD            ROAD\n",
       "PL           PLACE\n",
       "BOULEARD      BLVD\n",
       "BULEVARD      BLVD\n",
       "dtype: object"
      ]
     },
     "execution_count": 17,
     "metadata": {},
     "output_type": "execute_result"
    }
   ],
   "source": [
    "df['STREET TYPE'] = df['STREET'].apply(lambda x : x.split()[-1])\n",
    "df['STREET BASE'] = df['STREET'].apply(lambda x : \" \".join(i for i in x.split()[0:-1]))\n",
    "df['STREET BASE & ZIP'] = df['STREET BASE'] + df['ZIPCODE']\n",
    "street_df = df[['STREET BASE','STREET TYPE','STREET BASE & ZIP']].drop_duplicates()\n",
    "street_df = street_df[street_df['STREET BASE'] != \"\"]\n",
    "street_merge = street_df.merge(street_df,left_on = 'STREET BASE & ZIP',right_on='STREET BASE & ZIP')\n",
    "street_dup = street_merge[street_merge['STREET TYPE_x'] != street_merge['STREET TYPE_y']]\n",
    "street_ct = pd.crosstab(street_dup['STREET TYPE_x'],street_dup['STREET TYPE_y'])\n",
    "street_ct[['AVE','ST','RD','PL','BOULEARD','BULEVARD']].idxmax()"
   ]
  },
  {
   "cell_type": "code",
   "execution_count": null,
   "id": "df008287",
   "metadata": {},
   "outputs": [],
   "source": []
  }
 ],
 "metadata": {
  "kernelspec": {
   "display_name": "Python 3 (ipykernel)",
   "language": "python",
   "name": "python3"
  },
  "language_info": {
   "codemirror_mode": {
    "name": "ipython",
    "version": 3
   },
   "file_extension": ".py",
   "mimetype": "text/x-python",
   "name": "python",
   "nbconvert_exporter": "python",
   "pygments_lexer": "ipython3",
   "version": "3.9.12"
  }
 },
 "nbformat": 4,
 "nbformat_minor": 5
}
