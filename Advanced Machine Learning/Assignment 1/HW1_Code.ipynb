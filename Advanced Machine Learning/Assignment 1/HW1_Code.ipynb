{
 "cells": [
  {
   "cell_type": "markdown",
   "id": "ee9ef6b6",
   "metadata": {},
   "source": [
    "This is a group submmission by Audrey R Hsien and Muskaan Singhania"
   ]
  },
  {
   "cell_type": "markdown",
   "id": "d41729bb",
   "metadata": {},
   "source": [
    "# Question 1: Adoption of AI/ML (5 pts)\n",
    "\n",
    "Read the HBR article on barriers to adoption of AI/ML based solutions in the healthcare industry, which is posted as the first document in Canvas under Modules --> Resources.\n",
    "\n",
    "Write a paragraph in your own words summarizing what you feel were the key factors that contributed to the lack of trust (and hence adoption) of the AI/ML solutions discussed. \n",
    "\n",
    "\n",
    "Answer:\n",
    "Even though AI/ML based solutions were giving better results in providing health care facilities than human practitioners, people were still skeptical to use them and preferred human care provider. The primary and key factor behind this is that each person thinks their situation or illness is <b>unique</b> and that AI practitioner will not be able to accurately suggest them a treatment.\n",
    "Each body is different with a <b>different medical history</b> and charachteristics and hence the ML/AI based solutions will have to be <b>extensively trained</b> in order for it to be able to predict the correct solution. This risk involved here is huge as a human life is involved and hence people are even ready to bear inaccurate diagnosis or surgical complications just to get a human care provider.\n",
    "They were even ready to <b>pay a good amount to switch their treatment plan</b> from AI based care to a human nursing, that was the extent of their mistrust. It was this mistrust that had to be targeted before they could switch completely to AI/ML based care. The proof for this could be found in the survey results which showed that if the <b>final call after the recommendation of an AI based solution was given by a human doctor</b>, then people would happily accept the judgement and were satisfied with the treatment suggested.\n",
    "If the health care organizations probably <b>spread the word out that AI based solutions are equally effective</b> and in fact better than the human involvement then maybe the world will develop trust on these solutions the same way they trusted traditional systems of health care."
   ]
  },
  {
   "cell_type": "markdown",
   "id": "4a9f050c",
   "metadata": {},
   "source": [
    "### Solution:\n",
    "After reading the article, the key factor that contributes to the lack of trust of the AI/ML solutions is due to the patients' belief that their medical needs are unique and cannot be adequately addressed by algorithms. Through the numerous studies that tested this idea, we can conclude that patients were willing to not only forgo better health care but also pay more to have a human physician. Since the patients' perceptions of their uniqueness linearly correlated with their resistance to an AI provider, we can address these concerns through personalization and individualized healthcare. Only by recognizing these concerns to overcome patients' skepticism of having an algorithm rather than a person making decisions about their care can humans benefit from the unlimited potental of AI/ML based solutions in the healthcare industry."
   ]
  },
  {
   "cell_type": "markdown",
   "id": "e789f1cd",
   "metadata": {},
   "source": [
    "# Question 2: Google Flu Trends (8 pts)\n",
    "\n",
    "The second article posted  in Canvas under Modules --> Resources, (google flu) describes a high-profile (and embarrassingly  failed)  project done by google, highlighting the phenomena of data drift and the importance of continually monitoring/updating models post deployment.\n",
    "\n",
    "Read this article and then briefly describe \n",
    "\n",
    "(i) three important causes of \"data drift\" in the flu prediction problem that are mentioned in the article, and\n",
    "\n",
    "(ii) one important aspect of the original google model design that made it very prone to overfitting (and hence poor generalization on future data)."
   ]
  },
  {
   "cell_type": "markdown",
   "id": "8f87e61a",
   "metadata": {},
   "source": [
    "### (i) \n",
    "The three important causes of \"data drift\" in the flu prediction problem are 1) Big Data Hubris 2) Algorithm Dynamics and 3) Replicability. They all affect how the model is trying to predict the flu prediction problem over time in unforseen ways. As a result, this causes the model prediction to have a lower accuracy rate over time.\n",
    "\n",
    "1) Big Data Hubris, as stated in the article, is the \"implicit assumption that big data are a subsititute for, rather than supplement to, traditional data collection and analysis.\" This could be seen in the initial version of GFT as the developers were trying to find the best matches among \"50 million search terms to fit 1152 data points.\" Since this initial methodology, there has not been an more efficient way to utilize big data to produce valid and reliable data amendable for scientific analysis. While there is no substitute for ongoing evaluation and improvement of the algorithm, GFT could have greater value by combining with CDC data to provide more accurate results.\n",
    "\n",
    "2) The algorithm dynamics are constantly changing as engineers look to improve the algorithm as a service for the business and customers needs. One example of this change is Blue team dynamics - where the algorithm producing the data (and thus user utilization) has been modified by the service provider in accordance with their business model. Another possible example is Red team dynamics where potential users may attempt to mainpulate the algorithm to meet their own goals.\n",
    "\n",
    "3) There is a lack of transparency and an inability to replicate the algorithm for a number of reasons. First, GFT has never documented the 45 search terms used. Second, Google's search algorithm is not a static entity as they continue to test and improve search. Third, media-stoked panic is a possible factor in affecting the google search terms and is a common explanation for GFT's error. The combination of the factors above can explain why and how GFT's model has continues to overestimate with low accuracy.\n",
    "\n",
    "### (ii) \n",
    "One important aspect of the original google model design that made it very prone to overfitting was the methodology of finding relevant search terms. Often, the team would find search terms that matched the propensity of the flu but were structurally unrelated and did not predict the future. An example of this mentioned in the article was how GFT developers had weeded out seasonal search terms unrelated to the flu but strongly correlated to the CDC data, such as those regarding high school basketball.\n",
    "\n",
    "Another factor to consider is the fact that Google is only focused on the search terms and not considering how trends change over time. As the search terms change in accordance to media trends, it is important to consider how accurate and feasible the collection method may be."
   ]
  },
  {
   "cell_type": "markdown",
   "id": "dd2f726d",
   "metadata": {},
   "source": [
    "# Question 3: Maximum Likelihood Estimate (12 pts)\n",
    "\n",
    "100 students in the MSBA Program were asked if they wanted to buy the Big Ticket for the season. They reported their preferences by entering No or Yes in the survey. We use 0 to represent their disinterest in buying the Big Ticket and 1 to represent their interest. A random sample of 30 students yielded the following preferences:\n",
    "\n",
    "$$0 0 1 1 0 1 0 1 1 1 0 1 1 0 1 0 0 1 1 1 0 0 1 1 0 1 1 0 0 1$$\n",
    "\n",
    "These choices are assumed to arise by independent and identically distributed (i.i.d.) sampling from the following distribution and if the unknown parameter $q$ can be estimated, then we can provide more insights about the students' preference.\n",
    "\n",
    "$$\n",
    "\\begin{equation}\n",
    "\\nonumber P(x) = \\left\\{\n",
    "\\begin{array}{l l}\n",
    "    q& \\quad \\text{for  } x=0\\\\\n",
    "1-q & \\quad \\text{for } x=1\n",
    "\\end{array} \\right.\n",
    "\\end{equation}\n",
    "$$\n",
    "\n",
    "\n",
    "1. Based on the definitions given above, write down the likelihood function (3 pts)\n",
    "2. Derive the **maximum likelihood estimator** of $q$ (Algenric expression in terms of variables) (3 pts)\n",
    "3. Using the given sample, find a maximum likelihood estimate of $q$ as well (numerical value) (3 pts)\n",
    "4. Show that the maximum likelihood estimate is unbiased (3 pts)\n",
    "\n",
    "Note: For this question, you can either upload a scanned copy of the handwritten solution or write the answer in LaTex/Markdown.\n"
   ]
  },
  {
   "cell_type": "markdown",
   "id": "ee4ad4e5",
   "metadata": {},
   "source": [
    "### Solution: \n",
    "\n",
    "Attached the PDF onto Canvas for reference"
   ]
  },
  {
   "cell_type": "markdown",
   "id": "ba8d5f46",
   "metadata": {},
   "source": [
    "# Question 4: Linear Regression (10 pts)\n",
    "\n",
    "### 1. What is the difference between R-square and adjusted R square and why is it desirable to use the adjusted value? (4 pts)\n",
    "\n",
    "The difference between R-square and adjusted R-square is that R-squared explains the proportion of variance for a dependent variable y with respect to an independent variable x or variables in the regression model. Its value lies between 0 & 1 and should be as close to 1 as possible. <br>\n",
    "\n",
    "On the other hand, Adjusted R-squared adjusts the R-square value for the number of predictors and sample size. Hence if a predictor which is useful in predicting y is added to the model, the adjusted R-square would increase as the increase in R-square would be a lot bigger than the penalty. <br>\n",
    "\n",
    "But in case a useless variable is added to the model, it would be more desirable to use the adjusted value. This is becuase if variables are added to the model, then the R-squared value would keep increasing and would never decrease even in case of useless variables. <br>\n",
    "\n",
    "### 2. Overfitting usually happens in complex models. Linear Regression is a fairly simple model. Could overfitting happen in Linear Regression? If so, please explain the scenario in which it could happen and how we can tackle it. (6 pts)\n",
    "\n",
    "Overfitting in a Linear Regression can happen when the model is too complex. This usually occurs when there are  many features. As a result, while the model may perform well on the training data, it will perform poorly on the test data. <br>\n",
    "\n",
    "For linear regression, we can detect overfitting by observing at the predicted R-squared, a cross-validation method. By comparing the difference between the predicted R-squared and the regular R-squared, we can conclude if overfitting is present. If there is a large discrepancy between the two values, then the model does not predict new observations as well as it fits the original dataset concluding possible overfitting. <br>\n",
    "   \n",
    "We can tackle this issue through several methods: regularization, cross-validation, more training data, and feature selection. Regularization, in the context of linear regression, is the technique of penalizing the model coefficients to discourage the complexity of the model resulting in a reduction of overfitting. Types of regression that address the two types of regularization are Lasso Regression (L1) and Ridge Regression (L2). Cross validation is a great preventative measure of overfitting. Increasing the amount of training data will allow the algorithm to perform more accurately and minimize errors. Feature selection looks to improve generalizability by removing irrelevant input features. <br>"
   ]
  },
  {
   "cell_type": "markdown",
   "id": "0ea5470a",
   "metadata": {},
   "source": [
    "# Question 5: Ridge/ Lasso Regression (30 pts)\n",
    "\n",
    "Use the following code to import the California housing prices dataset and linear models in python. The dataset is taken from https://www.kaggle.com/camnugent/california-housing-prices/version/1. We have removed the categorical variables and rows with missing variables to make it easier to run the models."
   ]
  },
  {
   "cell_type": "markdown",
   "id": "14cd8126",
   "metadata": {},
   "source": [
    "The data pertains to the houses found in a given California district and some summary stats about them based on the 1990 census data. The columns are as follows:\n",
    "\n",
    "longitude\n",
    "\n",
    "latitude\n",
    "\n",
    "housingmedianage\n",
    "\n",
    "total_rooms\n",
    "\n",
    "total_bedrooms\n",
    "\n",
    "population\n",
    "\n",
    "households\n",
    "\n",
    "median_income\n",
    "\n",
    "medianhousevalue\n",
    "\n",
    "ocean_proximity (this feature has been removed from the csv file since it is an ordinal variable)"
   ]
  },
  {
   "cell_type": "code",
   "execution_count": 1,
   "id": "3fe95e51",
   "metadata": {},
   "outputs": [],
   "source": [
    "from sklearn import linear_model\n",
    "from sklearn.metrics import mean_absolute_error\n",
    "import numpy as np\n",
    "import pandas as pd\n",
    "from sklearn.metrics import mean_absolute_error, mean_squared_error\n",
    "import random\n",
    "from sklearn import linear_model\n",
    "from sklearn.linear_model import Lasso, LassoCV, Ridge, RidgeCV\n",
    "from sklearn.model_selection import KFold\n",
    "import matplotlib.pyplot as plt\n",
    "from sklearn.linear_model import ElasticNet\n",
    "from sklearn.metrics import r2_score\n",
    "pd.options.mode.chained_assignment = None\n",
    "\n",
    "\n",
    "df = pd.read_csv(\"reduced_data.csv\")\n",
    "X = df.drop(['median_house_value'],axis=1)\n",
    "Y = df['median_house_value']"
   ]
  },
  {
   "cell_type": "code",
   "execution_count": 2,
   "id": "21d26a01",
   "metadata": {},
   "outputs": [
    {
     "data": {
      "text/plain": [
       "Index(['longitude', 'latitude', 'housing_median_age', 'total_rooms',\n",
       "       'total_bedrooms', 'population', 'households', 'median_income',\n",
       "       'median_house_value'],\n",
       "      dtype='object')"
      ]
     },
     "execution_count": 2,
     "metadata": {},
     "output_type": "execute_result"
    }
   ],
   "source": [
    "df.columns # Show you all the columns in this file"
   ]
  },
  {
   "cell_type": "code",
   "execution_count": 3,
   "id": "087e269a",
   "metadata": {},
   "outputs": [
    {
     "data": {
      "text/html": [
       "<div>\n",
       "<style scoped>\n",
       "    .dataframe tbody tr th:only-of-type {\n",
       "        vertical-align: middle;\n",
       "    }\n",
       "\n",
       "    .dataframe tbody tr th {\n",
       "        vertical-align: top;\n",
       "    }\n",
       "\n",
       "    .dataframe thead th {\n",
       "        text-align: right;\n",
       "    }\n",
       "</style>\n",
       "<table border=\"1\" class=\"dataframe\">\n",
       "  <thead>\n",
       "    <tr style=\"text-align: right;\">\n",
       "      <th></th>\n",
       "      <th>longitude</th>\n",
       "      <th>latitude</th>\n",
       "      <th>housing_median_age</th>\n",
       "      <th>total_rooms</th>\n",
       "      <th>total_bedrooms</th>\n",
       "      <th>population</th>\n",
       "      <th>households</th>\n",
       "      <th>median_income</th>\n",
       "      <th>median_house_value</th>\n",
       "    </tr>\n",
       "  </thead>\n",
       "  <tbody>\n",
       "    <tr>\n",
       "      <th>0</th>\n",
       "      <td>-122.23</td>\n",
       "      <td>37.88</td>\n",
       "      <td>41.0</td>\n",
       "      <td>880.0</td>\n",
       "      <td>129.0</td>\n",
       "      <td>322.0</td>\n",
       "      <td>126.0</td>\n",
       "      <td>8.3252</td>\n",
       "      <td>452600.0</td>\n",
       "    </tr>\n",
       "    <tr>\n",
       "      <th>1</th>\n",
       "      <td>-122.22</td>\n",
       "      <td>37.86</td>\n",
       "      <td>21.0</td>\n",
       "      <td>7099.0</td>\n",
       "      <td>1106.0</td>\n",
       "      <td>2401.0</td>\n",
       "      <td>1138.0</td>\n",
       "      <td>8.3014</td>\n",
       "      <td>358500.0</td>\n",
       "    </tr>\n",
       "    <tr>\n",
       "      <th>2</th>\n",
       "      <td>-122.24</td>\n",
       "      <td>37.85</td>\n",
       "      <td>52.0</td>\n",
       "      <td>1467.0</td>\n",
       "      <td>190.0</td>\n",
       "      <td>496.0</td>\n",
       "      <td>177.0</td>\n",
       "      <td>7.2574</td>\n",
       "      <td>352100.0</td>\n",
       "    </tr>\n",
       "    <tr>\n",
       "      <th>3</th>\n",
       "      <td>-122.25</td>\n",
       "      <td>37.85</td>\n",
       "      <td>52.0</td>\n",
       "      <td>1274.0</td>\n",
       "      <td>235.0</td>\n",
       "      <td>558.0</td>\n",
       "      <td>219.0</td>\n",
       "      <td>5.6431</td>\n",
       "      <td>341300.0</td>\n",
       "    </tr>\n",
       "    <tr>\n",
       "      <th>4</th>\n",
       "      <td>-122.25</td>\n",
       "      <td>37.85</td>\n",
       "      <td>52.0</td>\n",
       "      <td>1627.0</td>\n",
       "      <td>280.0</td>\n",
       "      <td>565.0</td>\n",
       "      <td>259.0</td>\n",
       "      <td>3.8462</td>\n",
       "      <td>342200.0</td>\n",
       "    </tr>\n",
       "  </tbody>\n",
       "</table>\n",
       "</div>"
      ],
      "text/plain": [
       "   longitude  latitude  housing_median_age  total_rooms  total_bedrooms  \\\n",
       "0    -122.23     37.88                41.0        880.0           129.0   \n",
       "1    -122.22     37.86                21.0       7099.0          1106.0   \n",
       "2    -122.24     37.85                52.0       1467.0           190.0   \n",
       "3    -122.25     37.85                52.0       1274.0           235.0   \n",
       "4    -122.25     37.85                52.0       1627.0           280.0   \n",
       "\n",
       "   population  households  median_income  median_house_value  \n",
       "0       322.0       126.0         8.3252            452600.0  \n",
       "1      2401.0      1138.0         8.3014            358500.0  \n",
       "2       496.0       177.0         7.2574            352100.0  \n",
       "3       558.0       219.0         5.6431            341300.0  \n",
       "4       565.0       259.0         3.8462            342200.0  "
      ]
     },
     "execution_count": 3,
     "metadata": {},
     "output_type": "execute_result"
    }
   ],
   "source": [
    "df.head() # Show you the first 5 rows in this file"
   ]
  },
  {
   "cell_type": "markdown",
   "id": "d3cd4a17",
   "metadata": {},
   "source": [
    "### 1) Split the data into a training set (75% of data) and a test set (25% of data)\n",
    "\n",
    "using the train_test_split function with random_state = 50. Then scale the data (not including target) so that each of the independent variables would have zero mean and unit variance. You can use the sklearn.preprocessing.scale function for this. Print the first 5 rows of the training set after scaling. (2 pts)\n",
    "\n"
   ]
  },
  {
   "cell_type": "code",
   "execution_count": 4,
   "id": "2c4d86fd",
   "metadata": {},
   "outputs": [],
   "source": [
    "from sklearn.model_selection import train_test_split\n",
    "X_train_un,X_test_un,y_train,y_test = train_test_split(X,Y, test_size=0.25 , random_state=50)"
   ]
  },
  {
   "cell_type": "code",
   "execution_count": 5,
   "id": "bab91dc5",
   "metadata": {},
   "outputs": [],
   "source": [
    "from sklearn.preprocessing import StandardScaler\n",
    "scale = StandardScaler()\n",
    "X_train=scale.fit_transform(X_train_un)\n",
    "X_test=scale.fit_transform(X_test_un)"
   ]
  },
  {
   "cell_type": "code",
   "execution_count": 6,
   "id": "55f956ac",
   "metadata": {},
   "outputs": [
    {
     "data": {
      "text/plain": [
       "array([[-1.13113681,  1.91091856,  1.85290292, -0.97858972, -1.04294314,\n",
       "        -0.99407214, -1.05120862, -1.2222887 ],\n",
       "       [-1.12615029,  0.76639279, -0.92620274,  0.19946448,  0.16877038,\n",
       "         0.54845443,  0.27854331,  0.71761009],\n",
       "       [ 0.70888992, -0.7004688 ,  1.85290292, -1.02423644, -1.0022334 ,\n",
       "        -0.94920516, -1.03796408, -1.18162406],\n",
       "       [-1.21590769,  0.62157525,  1.13827575, -0.2132003 , -0.06351462,\n",
       "        -0.18915862, -0.08700602, -0.69687411],\n",
       "       [ 0.86347211, -0.70981187, -0.29097859,  0.38758429,  0.07298275,\n",
       "         0.27207387,  0.10371537,  0.51338795]])"
      ]
     },
     "execution_count": 6,
     "metadata": {},
     "output_type": "execute_result"
    }
   ],
   "source": [
    "X_train[:5,:]"
   ]
  },
  {
   "cell_type": "markdown",
   "id": "ab9487ac",
   "metadata": {},
   "source": [
    "### 2) Use sklearn.linear_model.Lasso and sklearn.linear_model.Ridge classes to do a 5-fold cross validation using sklearn's KFold. \n",
    "\n",
    "For the sweep of the regularization parameter, we will look at a grid of values ranging from  α=1010  to  α=10−6 .\n",
    "\n",
    "In Python, you can consider this range of values as follows: alpha = 10**numpy.linspace(6,-6,100) so that you can generate 100 uniform values between -6 to 6 as power series.\n",
    "\n",
    "Fit the 2 regression models with scaled data and report the best chosen α based on cross validation as well as the corresponding scoring metric. The cross validation should happen on your training data using MSE as the scoring metric. (5 pts)\n",
    "\n"
   ]
  },
  {
   "cell_type": "code",
   "execution_count": 7,
   "id": "4653e7b8",
   "metadata": {},
   "outputs": [
    {
     "name": "stdout",
     "output_type": "stream",
     "text": [
      "The most optimal alpha value for Lasso regression is\n",
      "57.22367659350197\n",
      "The MSE for the same is\n",
      "4856422488.082949\n"
     ]
    }
   ],
   "source": [
    "alpha_l = 10**np.linspace(10,-6,100)\n",
    "kfol_l = []\n",
    "\n",
    "for alpha in alpha_l:\n",
    "    error = []\n",
    "    for train_index, test_index in KFold(n_splits=5).split(X_train):\n",
    "        lasso= linear_model.Lasso(alpha= alpha)\n",
    "        lasso.fit(X_train[train_index],y_train.iloc[train_index])\n",
    "        lasso_pred = lasso.predict(X_train[test_index])\n",
    "        error.append(mean_squared_error(lasso_pred, y_train.iloc[test_index]))\n",
    "    kfol_l.append(np.mean(error))\n",
    "    \n",
    "kfol_df = pd.DataFrame(kfol_l, index=alpha_l, columns=[\"MSE\"])\n",
    "lasso_al = kfol_df[\"MSE\"].idxmin()\n",
    "lasso_mse = kfol_df.loc[lasso_al][\"MSE\"]\n",
    "\n",
    "print(\"The most optimal alpha value for Lasso regression is\")\n",
    "print(lasso_al)\n",
    "\n",
    "print(\"The MSE for the same is\")\n",
    "print(lasso_mse)"
   ]
  },
  {
   "cell_type": "code",
   "execution_count": 10,
   "id": "4f701392",
   "metadata": {},
   "outputs": [
    {
     "name": "stdout",
     "output_type": "stream",
     "text": [
      "The most optimal alpha value for Ridge regression is\n",
      "18.738174228603793\n",
      "The MSE for the same is\n",
      "4856173328.5055065\n"
     ]
    }
   ],
   "source": [
    "kfol_l = []\n",
    "\n",
    "for alpha in alpha_l:\n",
    "    error = []\n",
    "    for train_index, test_index in KFold(n_splits=5).split(X_train):\n",
    "        ridge = linear_model.Ridge(alpha= alpha)\n",
    "        ridge.fit(X_train[train_index],y_train.iloc[train_index])\n",
    "        ridge_pred = ridge.predict(X_train[test_index])\n",
    "        error.append(mean_squared_error(ridge_pred, y_train.iloc[test_index]))   \n",
    "    kfol_l.append(np.mean(error))\n",
    "    \n",
    "kfol_df = pd.DataFrame(kfol_l, index=alpha_l, columns=[\"MSE\"])\n",
    "ridge_al = kfol_df[\"MSE\"].idxmin()\n",
    "ridge_mse = kfol_df.loc[ridge_al][\"MSE\"]\n",
    "\n",
    "print(\"The most optimal alpha value for Ridge regression is\")\n",
    "print(ridge_al)\n",
    "\n",
    "print(\"The MSE for the same is\")\n",
    "print(ridge_mse)"
   ]
  },
  {
   "cell_type": "markdown",
   "id": "ad89a9dc",
   "metadata": {},
   "source": [
    "### 3) a) Run ridge and lasso regression for all of the α specified above (on training data)\n",
    "\n",
    "and plot the coefficients learned for each of them - there should be one plot each for lasso and ridge, so a total of two plots; different features' weights of each model should be on the same plot with different colors (5 pts)."
   ]
  },
  {
   "cell_type": "code",
   "execution_count": 8,
   "id": "e7fc2bf2",
   "metadata": {},
   "outputs": [],
   "source": [
    "coeff_lasso = pd.DataFrame(columns=X_train_un.columns, index=alpha_l)\n",
    "\n",
    "for alpha in alpha_l:\n",
    "    lasso_model = linear_model.Lasso(alpha= alpha)\n",
    "    lasso_model.fit(X_train,y_train)\n",
    "    coeff_lasso.loc[alpha] = lasso_model.coef_"
   ]
  },
  {
   "cell_type": "code",
   "execution_count": 9,
   "id": "205112d5",
   "metadata": {},
   "outputs": [
    {
     "data": {
      "image/png": "[encoded data removed]",
      "text/plain": [
       "<Figure size 432x288 with 1 Axes>"
      ]
     },
     "metadata": {
      "needs_background": "light"
     },
     "output_type": "display_data"
    }
   ],
   "source": [
    "ax = plt.gca()\n",
    "\n",
    "ax.plot(alpha_l, coeff_lasso.values)\n",
    "ax.set_xscale(\"log\")\n",
    "plt.xlabel(\"alpha\")\n",
    "plt.ylabel(\"weights\")\n",
    "plt.title(\"Lasso coefficients as a function of the regularization\")\n",
    "plt.axis(\"tight\")\n",
    "plt.show()"
   ]
  },
  {
   "cell_type": "code",
   "execution_count": 10,
   "id": "f35d170a",
   "metadata": {},
   "outputs": [],
   "source": [
    "coeff_ridge = pd.DataFrame(columns=X_train_un.columns, index=alpha_l)\n",
    "\n",
    "for alpha in alpha_l:\n",
    "    ridge_model = linear_model.Ridge(alpha= alpha)\n",
    "    ridge_model.fit(X_train,y_train)\n",
    "    coeff_ridge.loc[alpha] = ridge_model.coef_"
   ]
  },
  {
   "cell_type": "code",
   "execution_count": 11,
   "id": "803937bd",
   "metadata": {},
   "outputs": [
    {
     "data": {
      "image/png": "[encoded data removed]",
      "text/plain": [
       "<Figure size 432x288 with 1 Axes>"
      ]
     },
     "metadata": {
      "needs_background": "light"
     },
     "output_type": "display_data"
    }
   ],
   "source": [
    "ax = plt.gca()\n",
    "\n",
    "ax.plot(alpha_l, coeff_ridge.values)\n",
    "ax.set_xscale(\"log\")\n",
    "plt.xlabel(\"alpha\")\n",
    "plt.ylabel(\"weights\")\n",
    "plt.title(\"Ridge coefficients as a function of the regularization\")\n",
    "plt.axis(\"tight\")\n",
    "plt.show()"
   ]
  },
  {
   "cell_type": "markdown",
   "id": "5a530d81",
   "metadata": {},
   "source": [
    "### b) What do you qualitatively observe when the value of the regularization parameter changes? (2pts)"
   ]
  },
  {
   "cell_type": "markdown",
   "id": "5dcfd6b5",
   "metadata": {},
   "source": [
    "In both the cases, when the value of the regularization parameter increases, the weights i.e the coefficients of the variables decrease. The main difference is that, in case of Lasso, the coefficients are abruptly brought down to 0 whereas in case of the Ridge, the transition is a lot smoother which is visible from the graph. In theory, coefficients would not be set to 0, but very close to 0 in Ridge regression even though that isn't very evident from the graph"
   ]
  },
  {
   "cell_type": "markdown",
   "id": "91b5b5eb",
   "metadata": {},
   "source": [
    "### 4) a) Similarly, use sklearn.linear_model.ElasticNet to do linear regression with different α values,\n",
    "\n",
    "and plot the coefficients learned for each of them (2 pts)."
   ]
  },
  {
   "cell_type": "code",
   "execution_count": 12,
   "id": "b6b7f153",
   "metadata": {},
   "outputs": [],
   "source": [
    "coeff_elastic = pd.DataFrame(columns=X_train_un.columns, index=alpha_l)\n",
    "\n",
    "for alpha in alpha_l:\n",
    "    elastic_model = linear_model.ElasticNet(alpha= alpha)\n",
    "    elastic_model.fit(X_train,y_train)\n",
    "    coeff_elastic.loc[alpha] = elastic_model.coef_"
   ]
  },
  {
   "cell_type": "code",
   "execution_count": 13,
   "id": "74b12278",
   "metadata": {},
   "outputs": [
    {
     "data": {
      "image/png": "[encoded data removed]",
      "text/plain": [
       "<Figure size 432x288 with 1 Axes>"
      ]
     },
     "metadata": {
      "needs_background": "light"
     },
     "output_type": "display_data"
    }
   ],
   "source": [
    "ax = plt.gca()\n",
    "\n",
    "ax.plot(alpha_l, coeff_elastic.values)\n",
    "ax.set_xscale(\"log\")\n",
    "plt.xlabel(\"alpha\")\n",
    "plt.ylabel(\"weights\")\n",
    "plt.title(\"Elastic coefficients as a function of the regularization\")\n",
    "plt.axis(\"tight\")\n",
    "plt.show()"
   ]
  },
  {
   "cell_type": "markdown",
   "id": "465f2cee",
   "metadata": {},
   "source": [
    "### b) Observe the plot, then explain the pros and cons of ridge, lasso and Elastic Net models. (3pts)"
   ]
  },
  {
   "cell_type": "markdown",
   "id": "34e068c6",
   "metadata": {},
   "source": [
    "### Ridge Model <br>\n",
    "pro: It decreases the variance of the model by decreasing the value of the coefficients of the parameters close to 0 <br>\n",
    "con: It doesn't help with feature selection as it doesn't reduce any of the coefficients to 0 <br>\n",
    "\n",
    "### Lasso Model <br>\n",
    "pro: It helps with feature selection as it reduces the coefficients of the useless parameters to 0 resulting in reduced varisnce <br> \n",
    "con: In case of multi-collinear variables, it randomly selects the variable. Additionally, it doesn't perform well with datasets that have lesser number of observations than the number of features <br>\n",
    "\n",
    "### Elastic Model <br> \n",
    "pro: Since it combines the regularization of Ridge and Lasso, it helps with multicollinearity issue faced with the Lasso Model and it also results in lesser bias  <br> \n",
    "con: It is computationally expensive  <br> "
   ]
  },
  {
   "cell_type": "markdown",
   "id": "6563d4a8",
   "metadata": {},
   "source": [
    "### 5) Run the following three regression models with MSE loss on the training data (5 pts):\n",
    "a) linear regression without regularization (1pts) <br>"
   ]
  },
  {
   "cell_type": "code",
   "execution_count": 14,
   "id": "7b54acef",
   "metadata": {},
   "outputs": [
    {
     "name": "stdout",
     "output_type": "stream",
     "text": [
      "Linear Regression without Regularization\n",
      "The MSE is 4876717381.365172\n",
      "The R-squared is 0.6373018622056768\n"
     ]
    }
   ],
   "source": [
    "model_linear = linear_model.LinearRegression()\n",
    "model_linear.fit(X_train,y_train)\n",
    "pred_linear = model_linear.predict(X_test)\n",
    "mse_linear = mean_squared_error(pred_linear, y_test)\n",
    "r2_linear = r2_score(y_test, pred_linear)\n",
    "\n",
    "print(\"Linear Regression without Regularization\")\n",
    "print(\"The MSE is\", mse_linear)\n",
    "print(\"The R-squared is\", r2_linear)"
   ]
  },
  {
   "cell_type": "markdown",
   "id": "b125d6a3",
   "metadata": {},
   "source": [
    "b) linear regression with ridge regularization (2pts) <br>"
   ]
  },
  {
   "cell_type": "code",
   "execution_count": 15,
   "id": "286ad7f7",
   "metadata": {},
   "outputs": [
    {
     "name": "stdout",
     "output_type": "stream",
     "text": [
      "Lasso Regularization\n",
      "The MSE is 4876972611.180605\n",
      "The R-squared is 0.6372828798920572\n"
     ]
    }
   ],
   "source": [
    "model_lasso = linear_model.Lasso(alpha=lasso_al)\n",
    "model_lasso.fit(X_train,y_train)\n",
    "pred_lasso = lasso.predict(X_test)\n",
    "mse_lasso = mean_squared_error(pred_lasso, y_test)\n",
    "r2_lasso = r2_score(y_test, pred_lasso)\n",
    "\n",
    "print(\"Lasso Regularization\")\n",
    "print(\"The MSE is\", mse_lasso)\n",
    "print(\"The R-squared is\", r2_lasso)"
   ]
  },
  {
   "cell_type": "markdown",
   "id": "0649a17c",
   "metadata": {},
   "source": [
    "c) linear regression with lasso regularization (2pts) <br>\n",
    "For part (b) and (c), use only the best regularization parameters. Report the MSE and R2 on the test data for each of the models."
   ]
  },
  {
   "cell_type": "code",
   "execution_count": 20,
   "id": "35a124d2",
   "metadata": {},
   "outputs": [
    {
     "name": "stdout",
     "output_type": "stream",
     "text": [
      "Ridge Regularization\n",
      "The MSE is 4878845056.407679\n",
      "The R-squared is 0.6371436197414533\n"
     ]
    }
   ],
   "source": [
    "model_ridge = linear_model.Ridge(alpha=18.738174228603793)\n",
    "model_ridge.fit(X_train,y_train)\n",
    "pred_ridge = model_ridge.predict(X_test)\n",
    "mse_ridge = mean_squared_error(pred_ridge, y_test)\n",
    "r2_ridge = r2_score(y_test, pred_ridge)\n",
    "\n",
    "print(\"Ridge Regularization\")\n",
    "print(\"The MSE is\", mse_ridge)\n",
    "print(\"The R-squared is\", r2_ridge)"
   ]
  },
  {
   "cell_type": "markdown",
   "id": "2e744cf8",
   "metadata": {},
   "source": [
    "### 6) Train the 3 models and report metrics with the original data without scaling (3pts)"
   ]
  },
  {
   "cell_type": "code",
   "execution_count": 21,
   "id": "f3d2e1e2",
   "metadata": {},
   "outputs": [
    {
     "name": "stdout",
     "output_type": "stream",
     "text": [
      "Linear Regression without Scaling\n",
      "The MSE is 4861014374.694487\n",
      "The R-squared is 0.6384697484766739\n"
     ]
    }
   ],
   "source": [
    "model_linear = linear_model.LinearRegression()\n",
    "model_linear.fit(X_train_un,y_train)\n",
    "pred_linear = model_linear.predict(X_test_un)\n",
    "mse_linear = mean_squared_error(pred_linear, y_test)\n",
    "r2_linear = r2_score(y_test, pred_linear)\n",
    "\n",
    "print(\"Linear Regression without Scaling\")\n",
    "print(\"The MSE is\", mse_linear)\n",
    "print(\"The R-squared is\", r2_linear)"
   ]
  },
  {
   "cell_type": "code",
   "execution_count": 22,
   "id": "df7a2d94",
   "metadata": {},
   "outputs": [
    {
     "name": "stdout",
     "output_type": "stream",
     "text": [
      "Lasso Regularization without Scaling\n",
      "The MSE is 4861296394.753758\n",
      "The R-squared is 0.6384487736810647\n"
     ]
    }
   ],
   "source": [
    "model_lasso = linear_model.Lasso(alpha=lasso_al)\n",
    "model_lasso.fit(X_train_un,y_train)\n",
    "pred_lasso = model_lasso.predict(X_test_un)\n",
    "mse_lasso = mean_squared_error(pred_lasso, y_test)\n",
    "r2_lasso = r2_score(y_test, pred_lasso)\n",
    "\n",
    "print(\"Lasso Regularization without Scaling\")\n",
    "print(\"The MSE is\", mse_lasso)\n",
    "print(\"The R-squared is\", r2_lasso)"
   ]
  },
  {
   "cell_type": "code",
   "execution_count": 24,
   "id": "f3727cf3",
   "metadata": {},
   "outputs": [
    {
     "name": "stdout",
     "output_type": "stream",
     "text": [
      "Ridge Regularization without scaling\n",
      "The MSE is 4861284300.588036\n",
      "The R-squared is 0.6384496731655012\n"
     ]
    }
   ],
   "source": [
    "model_ridge = linear_model.Ridge(alpha=18.738174228603793)\n",
    "model_ridge.fit(X_train_un,y_train)\n",
    "pred_ridge = model_ridge.predict(X_test_un)\n",
    "mse_ridge = mean_squared_error(pred_ridge, y_test)\n",
    "r2_ridge = r2_score(y_test, pred_ridge)\n",
    "\n",
    "print(\"Ridge Regularization without scaling\")\n",
    "print(\"The MSE is\", mse_ridge)\n",
    "print(\"The R-squared is\", r2_ridge)"
   ]
  },
  {
   "cell_type": "markdown",
   "id": "b9e3c723",
   "metadata": {},
   "source": [
    "### 7) Why did we have to scale the data in ridge and lasso regression? (3 pts)"
   ]
  },
  {
   "cell_type": "markdown",
   "id": "d02e41aa",
   "metadata": {},
   "source": [
    "The main reasons for scaling the data before lasso and ridge regression is that: <br>\n",
    "1. It is important to standardize variables before performing regularizing and because of centring there is not requirement of an intercept <br>\n",
    "2. It results in more interpretable coefficients <br>\n",
    "3. Understanding feature importance post shrinkage <br>"
   ]
  }
 ],
 "metadata": {
  "kernelspec": {
   "display_name": "Python 3 (ipykernel)",
   "language": "python",
   "name": "python3"
  },
  "language_info": {
   "codemirror_mode": {
    "name": "ipython",
    "version": 3
   },
   "file_extension": ".py",
   "mimetype": "text/x-python",
   "name": "python",
   "nbconvert_exporter": "python",
   "pygments_lexer": "ipython3",
   "version": "3.9.12"
  }
 },
 "nbformat": 4,
 "nbformat_minor": 5
}
