{
 "cells": [
  {
   "cell_type": "markdown",
   "metadata": {
    "id": "voAS4e-XbWaH"
   },
   "source": [
    "# Assignment - 1 (65 pts)\n"
   ]
  },
  {
   "cell_type": "markdown",
   "metadata": {},
   "source": [
    "#### Team Members:\n",
    "    \n",
    "Aashi Aashi         - aa92533    \n",
    "Meeth Yogesh Handa  - mh58668"
   ]
  },
  {
   "cell_type": "markdown",
   "metadata": {
    "id": "Rh_WVVdznfMN"
   },
   "source": [
    "# Question 1: Adoption of AI/ML (5 pts)\n",
    "\n",
    "Read the HBR article on barriers to adoption of AI/ML based solutions in the healthcare industry, which is posted as the first document in Canvas under Modules --> Resources.\n",
    "\n",
    "Write a paragraph in your own words summarizing what you feel were the key factors that contributed to the lack of trust (and hence adoption) of the AI/ML solutions discussed. "
   ]
  },
  {
   "cell_type": "raw",
   "metadata": {},
   "source": [
    "\n",
    "In the aforementioned HBR article, numerous studies and surveys are referenced to highlight the distrust among majority of patients towards using AI/ML for diagnostic or treatment purposes. The primary reason behind the apprehension is that most people consider themselves to be unique and believe that AI tools and algorithms are unable to account for their idiosyncracies and specific medical history. It has got nothing to do with the perception that AI would be less accurate or more expensive than human counterparts. The fundamental reason mentioned for the lack of trust is the absence of customized healthcare and recommendations. People tend to be skeptical when treated as a number or a statistic. Thus, it is imperative for healthcare companies to address these issues by publishing results on how AI tools cater to each individual's profile and specialize the diagnosis and treatments accordingly.\n",
    "\n",
    "To overcome this notion and alter the belief of the patients, the paper outlines that AI-based healthcare services should highlight the fact that the algorithm actually does consider the patients' unique profile, lifestyle choices, family and genetic diseases/ health, living location, etc (for example - through cues onn the interface). This will help the patients understand the algorithm is catering to their unique profile and that the treatment is tailor made for them. Additionally, AI Healthcare providers can also share the evidence for accuracy of recommendations, patient reviews, and workings of the algorithm with the media to build confidence in AI. They can also have a physician confirm the recommendation provided by AI so that patients trust the recommendations."
   ]
  },
  {
   "cell_type": "markdown",
   "metadata": {
    "id": "IkVxrWs0o0tn"
   },
   "source": [
    "\n",
    "# Question 2: Google Flu Trends (8 pts)\n",
    "\n",
    "The second article posted  in Canvas under Modules --> Resources, (google flu) describes a high-profile (and embarrassingly  failed)  project done by google, highlighting the phenomena of data drift and the importance of continually monitoring/updating models post deployment.\n",
    "\n",
    "Read this article and then briefly describe \n",
    "\n",
    "(i) three important causes of \"data drift\" in the flu prediction problem that are mentioned in the article, and\n",
    "\n",
    "(ii) one important aspect of the original google model design that made it very prone to overfitting (and hence poor generalization on future data).\n"
   ]
  },
  {
   "cell_type": "raw",
   "metadata": {},
   "source": [
    "(i) The three important causes of \"data drifT\" in the flu prediction problem mentioned in the article are:\n",
    "\n",
    "1) Influence of external forces such as media. In this case, the media inflated the panic of flu among the general public,thereby resulting in additional searches for related terms which would lead to inaccurate predictions by GFT.\n",
    "\n",
    "2) The search algorithm implemnted by Google is dynamic. Continuous changes are being made to the existing algorithms - both by the Google development team and in part, by the users using the search engine. The addition of related search term suggestions and probable diagnoses being added to the algorithm significantly alter the data generation process from the one that was in place when GFT was initially developed.\n",
    "\n",
    "3) The third reason cited in the paper was that research subjects can potentially manipulate the data collection process for their own gains. There could be a conscious effort to boost searches for events in order to influence perception among the masses.\n",
    "    \n",
    "(ii) As mentioned in the paper, the Google Flu Trends model initially aimed to find the optimal matches among about 50 million search terms and 1152 data points. As a result, there were instances where certain terms similar to flu but structurally unrelated were also factored in. The big data used to build the model was not collected using a methodology which was conducive to accurate scientific analysis. This resulted in the outputs being skewed towards the prediction of flu and hence, the model was overfitting to the comparatively small number of cases."
   ]
  },
  {
   "cell_type": "markdown",
   "metadata": {
    "id": "hpTvwLiHVmfo",
    "jp-MarkdownHeadingCollapsed": true,
    "tags": []
   },
   "source": [
    "# Question 3: Maximum Likelihood Estimate (12 pts)\n",
    "\n",
    "100 students in the MSBA Program were asked if they wanted to buy the Big Ticket for the season. They reported their preferences by entering No or Yes in the survey. We use 0 to represent their disinterest in buying the Big Ticket and 1 to represent their interest. A random sample of 30 students yielded the following preferences:\n",
    "\n",
    "$$0 0 1 1 0 1 0 1 1 1 0 1 1 0 1 0 0 1 1 1 0 0 1 1 0 1 1 0 0 1$$\n",
    "\n",
    "These choices are assumed to arise by independent and identically distributed (i.i.d.) sampling from the following distribution and if the unknown parameter $q$ can be estimated, then we can provide more insights about the students' preference.\n",
    "\n",
    "$$\n",
    "\\begin{equation}\n",
    "\\nonumber P(x) = \\left\\{\n",
    "\\begin{array}{l l}\n",
    "    q& \\quad \\text{for  } x=0\\\\\n",
    "1-q & \\quad \\text{for } x=1\n",
    "\\end{array} \\right.\n",
    "\\end{equation}\n",
    "$$\n",
    "\n",
    "\n",
    "1. Based on the definitions given above, write down the likelihood function (3 pts)\n",
    "2. Derive the **maximum likelihood estimator** of $q$ (Algenric expression in terms of variables) (3 pts)\n",
    "3. Using the given sample, find a maximum likelihood estimate of $q$ as well (numerical value) (3 pts)\n",
    "4. Show that the maximum likelihood estimate is unbiased (3 pts)\n",
    "\n",
    "Note: For this question, you can either upload a scanned copy of the handwritten solution or write the answer in LaTex/Markdown.\n"
   ]
  },
  {
   "cell_type": "markdown",
   "metadata": {},
   "source": [
    "__Answer:__\n",
    "\n",
    "__PDF FILE ATTACHED WITH HANDWRITTEN SOLUTION__"
   ]
  },
  {
   "cell_type": "markdown",
   "metadata": {
    "id": "nTWFVcvwXP4w"
   },
   "source": [
    "# Question 4: Linear Regression (10 pts)\n",
    "\n",
    "1. What is the difference between R-square and adjusted R square and why is it desirable to use the adjusted value? (4 pts)\n",
    "\n",
    "2. Overfitting usually happens in complex models. Linear Regression is a fairly simple model. Could overfitting happen in Linear Regression? If so, please explain the scenario in which it could happen and how we can tackle it. (6 pts)\n"
   ]
  },
  {
   "cell_type": "raw",
   "metadata": {},
   "source": [
    "The main difference between  R-square and adjusted R square:\n",
    "    A) R-square explains the variations explained by all the variables of the model.\n",
    "        Adjusted R-square explains the variations explained by significant independent variables of the model.\n",
    "    B) R-square keeps on increasing with the addition of any variable in the model\n",
    "        Adjusted R-square increases only when independent variable is significant and affects dependent variable. It penalizes you for adding independent variable that do not help in predicting the dependent variable.\n",
    "    C) Adjusted R-squared value is always less than or equal to R-squared value.\n",
    "    D) For multiple linear regression models, Adjusted R squared value gives more accurate information."
   ]
  },
  {
   "cell_type": "raw",
   "metadata": {},
   "source": [
    "Yes, Overfitting can happen in a simple model like Linear Regression too.\n",
    "\n",
    "Suppose, we add an independent variable to the model which leads to a very small increase in R-square value say from 0.80 to 0.81 and p-value of that independent variable is not significant. In general, R-square which is an estimator of how well the model fits the data increases with addition of variables to the model, even if those variables are weekly associated with the response variable. Since R-square is computed on the training set, inclusion of weakly associated variables means we are try to add as many points to the line without any actual improvement, Also the model becomes rigid for the training set.Addidtion of more and more variables even if they are weekly associated, ultimately leads to overfitting as those variables doesn't provide any real improvement \n",
    "\n",
    "To tackle the problem of overfitting in LR, we can only add variables which causes a significant increase in the R-square and whose p-value is also significant enough. Also before fitting the model, we can do Recursive Feature Elimination to eliminate variables which are not stronly associated with the Response variable. Overfitting in linear regression can be tackled with regularization as well. Regularization is the process of adding constraints to the model so that it is able to generalise better on the test data. It essentially \"shrinks\" the fit of the model with the training data and reduces the variance among training and test data results."
   ]
  },
  {
   "cell_type": "markdown",
   "metadata": {
    "id": "rTCBgfLxeIi5"
   },
   "source": [
    "# Question 5: Ridge/ Lasso Regression (30 pts)\n",
    "\n",
    "Use the following code to import the California housing prices dataset and linear models in python. The dataset is taken from https://www.kaggle.com/camnugent/california-housing-prices/version/1. We have removed the categorical variables and rows with missing variables to make it easier to run the models."
   ]
  },
  {
   "cell_type": "markdown",
   "metadata": {
    "id": "naMH3EMCm1cA"
   },
   "source": [
    "The data pertains to the houses found in a given California district and some summary stats about them based on the 1990 census data. The columns are as follows:\n",
    "\n",
    "longitude\n",
    "\n",
    "latitude\n",
    "\n",
    "housingmedianage\n",
    "\n",
    "total_rooms\n",
    "\n",
    "total_bedrooms\n",
    "\n",
    "population\n",
    "\n",
    "households\n",
    "\n",
    "median_income\n",
    "\n",
    "medianhousevalue\n",
    "\n",
    "ocean_proximity (this feature has been removed from the csv file since it is an ordinal variable)"
   ]
  },
  {
   "cell_type": "code",
   "execution_count": 2,
   "metadata": {
    "id": "Qhv7UoyilbDV"
   },
   "outputs": [],
   "source": [
    "from sklearn import linear_model\n",
    "from sklearn.metrics import mean_absolute_error\n",
    "import numpy as np\n",
    "import pandas as pd\n",
    "from sklearn.metrics import mean_absolute_error, mean_squared_error\n",
    "import random\n",
    "from sklearn import linear_model\n",
    "from sklearn.model_selection import train_test_split\n",
    "pd.options.mode.chained_assignment = None\n",
    "from sklearn.model_selection import cross_val_score, KFold, cross_validate\n",
    "from sklearn.linear_model import Lasso\n",
    "from sklearn.linear_model import Ridge\n",
    "from sklearn.linear_model import ElasticNet\n",
    "from  sklearn.linear_model import LinearRegression\n",
    "from sklearn.model_selection import KFold\n",
    "from numpy import absolute, mean\n",
    "import matplotlib.pyplot as plt\n",
    "from sklearn.metrics import r2_score,mean_squared_error"
   ]
  },
  {
   "cell_type": "code",
   "execution_count": 3,
   "metadata": {},
   "outputs": [],
   "source": [
    "df = pd.read_csv(\"housing_data.csv\")\n",
    "X = df.drop(['median_house_value'],axis=1)\n",
    "Y = df['median_house_value']"
   ]
  },
  {
   "cell_type": "code",
   "execution_count": 4,
   "metadata": {
    "colab": {
     "base_uri": "https://localhost:8080/"
    },
    "id": "CTiUIITYezts",
    "outputId": "82a0383b-f064-44f1-9ab8-ed196cf9d44f"
   },
   "outputs": [
    {
     "data": {
      "text/plain": [
       "longitude             float64\n",
       "latitude              float64\n",
       "housing_median_age    float64\n",
       "total_rooms           float64\n",
       "total_bedrooms        float64\n",
       "population            float64\n",
       "households            float64\n",
       "median_income         float64\n",
       "median_house_value    float64\n",
       "dtype: object"
      ]
     },
     "execution_count": 4,
     "metadata": {},
     "output_type": "execute_result"
    }
   ],
   "source": [
    "df.dtypes # Show you all the columns in this file"
   ]
  },
  {
   "cell_type": "code",
   "execution_count": 5,
   "metadata": {
    "colab": {
     "base_uri": "https://localhost:8080/",
     "height": 206
    },
    "id": "li4lFm55fEPg",
    "outputId": "7e8cdc45-720f-4a6f-84af-2992d62fe744"
   },
   "outputs": [
    {
     "data": {
      "text/html": [
       "<div>\n",
       "<style scoped>\n",
       "    .dataframe tbody tr th:only-of-type {\n",
       "        vertical-align: middle;\n",
       "    }\n",
       "\n",
       "    .dataframe tbody tr th {\n",
       "        vertical-align: top;\n",
       "    }\n",
       "\n",
       "    .dataframe thead th {\n",
       "        text-align: right;\n",
       "    }\n",
       "</style>\n",
       "<table border=\"1\" class=\"dataframe\">\n",
       "  <thead>\n",
       "    <tr style=\"text-align: right;\">\n",
       "      <th></th>\n",
       "      <th>longitude</th>\n",
       "      <th>latitude</th>\n",
       "      <th>housing_median_age</th>\n",
       "      <th>total_rooms</th>\n",
       "      <th>total_bedrooms</th>\n",
       "      <th>population</th>\n",
       "      <th>households</th>\n",
       "      <th>median_income</th>\n",
       "      <th>median_house_value</th>\n",
       "    </tr>\n",
       "  </thead>\n",
       "  <tbody>\n",
       "    <tr>\n",
       "      <th>0</th>\n",
       "      <td>-122.23</td>\n",
       "      <td>37.88</td>\n",
       "      <td>41.0</td>\n",
       "      <td>880.0</td>\n",
       "      <td>129.0</td>\n",
       "      <td>322.0</td>\n",
       "      <td>126.0</td>\n",
       "      <td>8.3252</td>\n",
       "      <td>452600.0</td>\n",
       "    </tr>\n",
       "    <tr>\n",
       "      <th>1</th>\n",
       "      <td>-122.22</td>\n",
       "      <td>37.86</td>\n",
       "      <td>21.0</td>\n",
       "      <td>7099.0</td>\n",
       "      <td>1106.0</td>\n",
       "      <td>2401.0</td>\n",
       "      <td>1138.0</td>\n",
       "      <td>8.3014</td>\n",
       "      <td>358500.0</td>\n",
       "    </tr>\n",
       "    <tr>\n",
       "      <th>2</th>\n",
       "      <td>-122.24</td>\n",
       "      <td>37.85</td>\n",
       "      <td>52.0</td>\n",
       "      <td>1467.0</td>\n",
       "      <td>190.0</td>\n",
       "      <td>496.0</td>\n",
       "      <td>177.0</td>\n",
       "      <td>7.2574</td>\n",
       "      <td>352100.0</td>\n",
       "    </tr>\n",
       "    <tr>\n",
       "      <th>3</th>\n",
       "      <td>-122.25</td>\n",
       "      <td>37.85</td>\n",
       "      <td>52.0</td>\n",
       "      <td>1274.0</td>\n",
       "      <td>235.0</td>\n",
       "      <td>558.0</td>\n",
       "      <td>219.0</td>\n",
       "      <td>5.6431</td>\n",
       "      <td>341300.0</td>\n",
       "    </tr>\n",
       "    <tr>\n",
       "      <th>4</th>\n",
       "      <td>-122.25</td>\n",
       "      <td>37.85</td>\n",
       "      <td>52.0</td>\n",
       "      <td>1627.0</td>\n",
       "      <td>280.0</td>\n",
       "      <td>565.0</td>\n",
       "      <td>259.0</td>\n",
       "      <td>3.8462</td>\n",
       "      <td>342200.0</td>\n",
       "    </tr>\n",
       "  </tbody>\n",
       "</table>\n",
       "</div>"
      ],
      "text/plain": [
       "   longitude  latitude  housing_median_age  total_rooms  total_bedrooms  \\\n",
       "0    -122.23     37.88                41.0        880.0           129.0   \n",
       "1    -122.22     37.86                21.0       7099.0          1106.0   \n",
       "2    -122.24     37.85                52.0       1467.0           190.0   \n",
       "3    -122.25     37.85                52.0       1274.0           235.0   \n",
       "4    -122.25     37.85                52.0       1627.0           280.0   \n",
       "\n",
       "   population  households  median_income  median_house_value  \n",
       "0       322.0       126.0         8.3252            452600.0  \n",
       "1      2401.0      1138.0         8.3014            358500.0  \n",
       "2       496.0       177.0         7.2574            352100.0  \n",
       "3       558.0       219.0         5.6431            341300.0  \n",
       "4       565.0       259.0         3.8462            342200.0  "
      ]
     },
     "execution_count": 5,
     "metadata": {},
     "output_type": "execute_result"
    }
   ],
   "source": [
    "df.head() # Show you the first 5 rows in this file"
   ]
  },
  {
   "cell_type": "markdown",
   "metadata": {
    "id": "V39QgNuEfR6q"
   },
   "source": [
    "### 1) Split the data into a training set (75% of data) and a test set (25% of data), using the train_test_split function with random_state = 50. Then scale the data (not including target) so that each of the independent variables would have zero mean and unit variance. You can use the sklearn.preprocessing.scale function for this. Print the first 5 rows of the training set after scaling. (2 pts) \n"
   ]
  },
  {
   "cell_type": "code",
   "execution_count": 6,
   "metadata": {},
   "outputs": [],
   "source": [
    " X_train, X_test, Y_train, Y_test = train_test_split(X, Y, test_size = 0.25,random_state = 50)"
   ]
  },
  {
   "cell_type": "code",
   "execution_count": 7,
   "metadata": {},
   "outputs": [],
   "source": [
    "from sklearn.preprocessing import StandardScaler\n",
    "scaler = StandardScaler()\n",
    "X_train_scaled =(scaler.fit_transform(X_train))\n",
    "X_train_scaled=pd.DataFrame(X_train_scaled, columns = ['longitude', 'latitude', 'housing_median_age', 'total_rooms',\n",
    "       'total_bedrooms', 'population', 'households', 'median_income'])\n",
    "\n",
    "\n",
    "X_test_scaled =(scaler.transform(X_test))\n",
    "X_test_scaled=pd.DataFrame(X_test_scaled, columns = ['longitude', 'latitude', 'housing_median_age', 'total_rooms',\n",
    "       'total_bedrooms', 'population', 'households', 'median_income'])"
   ]
  },
  {
   "cell_type": "code",
   "execution_count": 8,
   "metadata": {},
   "outputs": [
    {
     "data": {
      "text/html": [
       "<div>\n",
       "<style scoped>\n",
       "    .dataframe tbody tr th:only-of-type {\n",
       "        vertical-align: middle;\n",
       "    }\n",
       "\n",
       "    .dataframe tbody tr th {\n",
       "        vertical-align: top;\n",
       "    }\n",
       "\n",
       "    .dataframe thead th {\n",
       "        text-align: right;\n",
       "    }\n",
       "</style>\n",
       "<table border=\"1\" class=\"dataframe\">\n",
       "  <thead>\n",
       "    <tr style=\"text-align: right;\">\n",
       "      <th></th>\n",
       "      <th>longitude</th>\n",
       "      <th>latitude</th>\n",
       "      <th>housing_median_age</th>\n",
       "      <th>total_rooms</th>\n",
       "      <th>total_bedrooms</th>\n",
       "      <th>population</th>\n",
       "      <th>households</th>\n",
       "      <th>median_income</th>\n",
       "    </tr>\n",
       "  </thead>\n",
       "  <tbody>\n",
       "    <tr>\n",
       "      <th>0</th>\n",
       "      <td>-0.113886</td>\n",
       "      <td>-0.564994</td>\n",
       "      <td>-0.529188</td>\n",
       "      <td>0.101716</td>\n",
       "      <td>-0.085067</td>\n",
       "      <td>0.033382</td>\n",
       "      <td>-0.113495</td>\n",
       "      <td>0.952291</td>\n",
       "    </tr>\n",
       "    <tr>\n",
       "      <th>1</th>\n",
       "      <td>0.708890</td>\n",
       "      <td>-0.723826</td>\n",
       "      <td>-0.132173</td>\n",
       "      <td>-0.317865</td>\n",
       "      <td>-0.180854</td>\n",
       "      <td>0.033382</td>\n",
       "      <td>-0.304216</td>\n",
       "      <td>-0.557007</td>\n",
       "    </tr>\n",
       "    <tr>\n",
       "      <th>2</th>\n",
       "      <td>1.092852</td>\n",
       "      <td>-1.139593</td>\n",
       "      <td>-0.211576</td>\n",
       "      <td>-0.552093</td>\n",
       "      <td>-0.358062</td>\n",
       "      <td>-0.399136</td>\n",
       "      <td>-0.476396</td>\n",
       "      <td>-1.305733</td>\n",
       "    </tr>\n",
       "    <tr>\n",
       "      <th>3</th>\n",
       "      <td>0.828566</td>\n",
       "      <td>-0.854629</td>\n",
       "      <td>-0.846800</td>\n",
       "      <td>-0.665518</td>\n",
       "      <td>-0.437086</td>\n",
       "      <td>-0.572323</td>\n",
       "      <td>-0.415471</td>\n",
       "      <td>-0.685875</td>\n",
       "    </tr>\n",
       "    <tr>\n",
       "      <th>4</th>\n",
       "      <td>-1.245827</td>\n",
       "      <td>0.967269</td>\n",
       "      <td>0.900067</td>\n",
       "      <td>-0.376422</td>\n",
       "      <td>-0.559216</td>\n",
       "      <td>-0.603729</td>\n",
       "      <td>-0.600894</td>\n",
       "      <td>0.762505</td>\n",
       "    </tr>\n",
       "  </tbody>\n",
       "</table>\n",
       "</div>"
      ],
      "text/plain": [
       "   longitude  latitude  housing_median_age  total_rooms  total_bedrooms  \\\n",
       "0  -0.113886 -0.564994           -0.529188     0.101716       -0.085067   \n",
       "1   0.708890 -0.723826           -0.132173    -0.317865       -0.180854   \n",
       "2   1.092852 -1.139593           -0.211576    -0.552093       -0.358062   \n",
       "3   0.828566 -0.854629           -0.846800    -0.665518       -0.437086   \n",
       "4  -1.245827  0.967269            0.900067    -0.376422       -0.559216   \n",
       "\n",
       "   population  households  median_income  \n",
       "0    0.033382   -0.113495       0.952291  \n",
       "1    0.033382   -0.304216      -0.557007  \n",
       "2   -0.399136   -0.476396      -1.305733  \n",
       "3   -0.572323   -0.415471      -0.685875  \n",
       "4   -0.603729   -0.600894       0.762505  "
      ]
     },
     "execution_count": 8,
     "metadata": {},
     "output_type": "execute_result"
    }
   ],
   "source": [
    "X_test_scaled.head(5)"
   ]
  },
  {
   "cell_type": "markdown",
   "metadata": {
    "id": "J_GJz1PEfSw0"
   },
   "source": [
    "\n",
    "### 2) Use sklearn.linear_model.Lasso and sklearn.linear_model.Ridge classes to do a 5-fold cross validation using sklearn's KFold. For the sweep of the regularization parameter, we will look at a grid of values ranging from $α = 10^{10}$ to $α = 10^{−6}$.\n",
    "\n",
    "#### In Python, you can consider this range of values as follows: alpha = 10**numpy.linspace(6,-6,100) so that you can generate 100 uniform values between -6 to 6 as power series.\n",
    "\n",
    "### Fit the 2 regression models with scaled data and report the best chosen α based on cross validation as well as the corresponding scoring metric. The cross validation should happen on your training data using MSE as the scoring metric. (5 pts) "
   ]
  },
  {
   "cell_type": "code",
   "execution_count": 9,
   "metadata": {},
   "outputs": [],
   "source": [
    "alphas = (10**np.linspace(10,-6,100) )\n",
    "kf = KFold(n_splits=5,shuffle=True,random_state=2000)\n",
    "mse_lasso=[]\n",
    "mse_ridge=[]\n"
   ]
  },
  {
   "cell_type": "code",
   "execution_count": 10,
   "metadata": {},
   "outputs": [
    {
     "name": "stdout",
     "output_type": "stream",
     "text": [
      "The best value of alpha for ridge is: 12.9155 and  mse_ridge is: 4855822665.35\n"
     ]
    },
    {
     "data": {
      "image/png": "[encoded data removed]",
      "text/plain": [
       "<Figure size 432x288 with 1 Axes>"
      ]
     },
     "metadata": {
      "needs_background": "light"
     },
     "output_type": "display_data"
    }
   ],
   "source": [
    "#ridge regression: cross validation using 5 folds to find best alpha\n",
    "for a in alphas:\n",
    "    ridge = Ridge(alpha = a)\n",
    "    mse_temp=[]\n",
    "    \n",
    "    for train_index, test_index in kf.split(X_train_scaled):\n",
    "        X_traincv, X_testcv = X_train_scaled.iloc[train_index], X_train_scaled.iloc[test_index]\n",
    "        Y_traincv, Y_testcv = Y_train.iloc[train_index], Y_train.iloc[test_index]\n",
    "        ridge_fit = ridge.fit(X_traincv, Y_traincv)\n",
    "        Y_pred = ridge_fit.predict(X_testcv)\n",
    "        mse = mean_squared_error(Y_testcv, Y_pred)\n",
    "        mse_temp.append(mse)\n",
    "    \n",
    "    mse_ridge.append(np.mean(mse_temp))\n",
    "\n",
    "#best alpha for ridge based on cross validation and using MSE as the evaluation metric\n",
    "best_ridge = alphas[mse_ridge.index(min(mse_ridge))]\n",
    "min_mse_ridge= min(mse_ridge)\n",
    "print(\"The best value of alpha for ridge is: \"+ str(round(best_ridge,4)),\"and  mse_ridge is: \"+ str (round(min_mse_ridge,2)) )\n",
    "\n",
    "\n",
    "plt.plot(alphas, mse_ridge)\n",
    "plt.show()"
   ]
  },
  {
   "cell_type": "code",
   "execution_count": 11,
   "metadata": {},
   "outputs": [
    {
     "name": "stdout",
     "output_type": "stream",
     "text": [
      "The best value of alpha for Lasso is: 57.2237 and  mse_ridge is: 4855915820.55\n"
     ]
    },
    {
     "data": {
      "image/png": "[encoded data removed]",
      "text/plain": [
       "<Figure size 432x288 with 1 Axes>"
      ]
     },
     "metadata": {
      "needs_background": "light"
     },
     "output_type": "display_data"
    }
   ],
   "source": [
    "#ridge regression: cross validation using 5 folds to find best alpha\n",
    "for a in alphas:\n",
    "    lasso = Lasso(alpha = a)\n",
    "    mse_temp=[]\n",
    "    \n",
    "    for train_index, test_index in kf.split(X_train_scaled):\n",
    "        X_traincv, X_testcv = X_train_scaled.iloc[train_index], X_train_scaled.iloc[test_index]\n",
    "        Y_traincv, Y_testcv = Y_train.iloc[train_index], Y_train.iloc[test_index]\n",
    "        lasso_fit = lasso.fit(X_traincv, Y_traincv)\n",
    "        Y_pred = lasso_fit.predict(X_testcv)\n",
    "        mse = mean_squared_error(Y_testcv, Y_pred)\n",
    "        mse_temp.append(mse)\n",
    "    \n",
    "    mse_lasso.append(np.mean(mse_temp))\n",
    "    \n",
    "best_lasso = alphas[mse_lasso.index(min(mse_lasso))]\n",
    "min_mse_lasso= min(mse_lasso)\n",
    "print(\"The best value of alpha for Lasso is: \"+ str(round(best_lasso,4)),\"and  mse_ridge is: \"+ str (round(min_mse_lasso,2)) )\n",
    "\n",
    "\n",
    "plt.plot(alphas, mse_lasso)\n",
    "plt.show()"
   ]
  },
  {
   "cell_type": "markdown",
   "metadata": {},
   "source": [
    "\n",
    "\n",
    "### 3) a) Run ridge and lasso regression for all of the α specified above (on training data), and plot the coefficients learned for each of them - there should be one plot each for lasso and ridge, so a total of two plots; different features' weights of each model should be on the same plot with different colors (5 pts).\n",
    "\n",
    "### b) What do you qualitatively observe when the value of the regularization parameter changes? (2pts)\n",
    "\n",
    "\n",
    "\n",
    "\n"
   ]
  },
  {
   "cell_type": "code",
   "execution_count": 12,
   "metadata": {},
   "outputs": [
    {
     "data": {
      "text/html": [
       "<div>\n",
       "<style scoped>\n",
       "    .dataframe tbody tr th:only-of-type {\n",
       "        vertical-align: middle;\n",
       "    }\n",
       "\n",
       "    .dataframe tbody tr th {\n",
       "        vertical-align: top;\n",
       "    }\n",
       "\n",
       "    .dataframe thead th {\n",
       "        text-align: right;\n",
       "    }\n",
       "</style>\n",
       "<table border=\"1\" class=\"dataframe\">\n",
       "  <thead>\n",
       "    <tr style=\"text-align: right;\">\n",
       "      <th></th>\n",
       "      <th>longitude</th>\n",
       "      <th>latitude</th>\n",
       "      <th>housing_median_age</th>\n",
       "      <th>total_rooms</th>\n",
       "      <th>total_bedrooms</th>\n",
       "      <th>population</th>\n",
       "      <th>households</th>\n",
       "      <th>median_income</th>\n",
       "      <th>alpha</th>\n",
       "    </tr>\n",
       "  </thead>\n",
       "  <tbody>\n",
       "    <tr>\n",
       "      <th>0</th>\n",
       "      <td>-0.000000</td>\n",
       "      <td>-0.000000</td>\n",
       "      <td>0.000000</td>\n",
       "      <td>0.000000</td>\n",
       "      <td>0.000000</td>\n",
       "      <td>-0.000000</td>\n",
       "      <td>0.000000</td>\n",
       "      <td>0.000000</td>\n",
       "      <td>1.000000e+10</td>\n",
       "    </tr>\n",
       "    <tr>\n",
       "      <th>1</th>\n",
       "      <td>-0.000000</td>\n",
       "      <td>-0.000000</td>\n",
       "      <td>0.000000</td>\n",
       "      <td>0.000000</td>\n",
       "      <td>0.000000</td>\n",
       "      <td>-0.000000</td>\n",
       "      <td>0.000000</td>\n",
       "      <td>0.000000</td>\n",
       "      <td>6.892612e+09</td>\n",
       "    </tr>\n",
       "    <tr>\n",
       "      <th>2</th>\n",
       "      <td>-0.000000</td>\n",
       "      <td>-0.000000</td>\n",
       "      <td>0.000000</td>\n",
       "      <td>0.000000</td>\n",
       "      <td>0.000000</td>\n",
       "      <td>-0.000000</td>\n",
       "      <td>0.000000</td>\n",
       "      <td>0.000000</td>\n",
       "      <td>4.750810e+09</td>\n",
       "    </tr>\n",
       "    <tr>\n",
       "      <th>3</th>\n",
       "      <td>-0.000000</td>\n",
       "      <td>-0.000000</td>\n",
       "      <td>0.000000</td>\n",
       "      <td>0.000000</td>\n",
       "      <td>0.000000</td>\n",
       "      <td>-0.000000</td>\n",
       "      <td>0.000000</td>\n",
       "      <td>0.000000</td>\n",
       "      <td>3.274549e+09</td>\n",
       "    </tr>\n",
       "    <tr>\n",
       "      <th>4</th>\n",
       "      <td>-0.000000</td>\n",
       "      <td>-0.000000</td>\n",
       "      <td>0.000000</td>\n",
       "      <td>0.000000</td>\n",
       "      <td>0.000000</td>\n",
       "      <td>-0.000000</td>\n",
       "      <td>0.000000</td>\n",
       "      <td>0.000000</td>\n",
       "      <td>2.257020e+09</td>\n",
       "    </tr>\n",
       "    <tr>\n",
       "      <th>...</th>\n",
       "      <td>...</td>\n",
       "      <td>...</td>\n",
       "      <td>...</td>\n",
       "      <td>...</td>\n",
       "      <td>...</td>\n",
       "      <td>...</td>\n",
       "      <td>...</td>\n",
       "      <td>...</td>\n",
       "      <td>...</td>\n",
       "    </tr>\n",
       "    <tr>\n",
       "      <th>95</th>\n",
       "      <td>-85074.210327</td>\n",
       "      <td>-90016.940350</td>\n",
       "      <td>15059.496695</td>\n",
       "      <td>-19410.452122</td>\n",
       "      <td>46603.838474</td>\n",
       "      <td>-41940.112033</td>\n",
       "      <td>19480.008205</td>\n",
       "      <td>76502.615658</td>\n",
       "      <td>4.430621e-06</td>\n",
       "    </tr>\n",
       "    <tr>\n",
       "      <th>96</th>\n",
       "      <td>-85074.210341</td>\n",
       "      <td>-90016.940364</td>\n",
       "      <td>15059.496694</td>\n",
       "      <td>-19410.452148</td>\n",
       "      <td>46603.838501</td>\n",
       "      <td>-41940.112042</td>\n",
       "      <td>19480.008211</td>\n",
       "      <td>76502.615663</td>\n",
       "      <td>3.053856e-06</td>\n",
       "    </tr>\n",
       "    <tr>\n",
       "      <th>97</th>\n",
       "      <td>-85074.210351</td>\n",
       "      <td>-90016.940374</td>\n",
       "      <td>15059.496694</td>\n",
       "      <td>-19410.452166</td>\n",
       "      <td>46603.838520</td>\n",
       "      <td>-41940.112048</td>\n",
       "      <td>19480.008216</td>\n",
       "      <td>76502.615667</td>\n",
       "      <td>2.104904e-06</td>\n",
       "    </tr>\n",
       "    <tr>\n",
       "      <th>98</th>\n",
       "      <td>-85074.210358</td>\n",
       "      <td>-90016.940380</td>\n",
       "      <td>15059.496693</td>\n",
       "      <td>-19410.452178</td>\n",
       "      <td>46603.838533</td>\n",
       "      <td>-41940.112052</td>\n",
       "      <td>19480.008219</td>\n",
       "      <td>76502.615669</td>\n",
       "      <td>1.450829e-06</td>\n",
       "    </tr>\n",
       "    <tr>\n",
       "      <th>99</th>\n",
       "      <td>-85074.210363</td>\n",
       "      <td>-90016.940385</td>\n",
       "      <td>15059.496693</td>\n",
       "      <td>-19410.452187</td>\n",
       "      <td>46603.838542</td>\n",
       "      <td>-41940.112055</td>\n",
       "      <td>19480.008221</td>\n",
       "      <td>76502.615671</td>\n",
       "      <td>1.000000e-06</td>\n",
       "    </tr>\n",
       "  </tbody>\n",
       "</table>\n",
       "<p>100 rows × 9 columns</p>\n",
       "</div>"
      ],
      "text/plain": [
       "       longitude      latitude  housing_median_age   total_rooms  \\\n",
       "0      -0.000000     -0.000000            0.000000      0.000000   \n",
       "1      -0.000000     -0.000000            0.000000      0.000000   \n",
       "2      -0.000000     -0.000000            0.000000      0.000000   \n",
       "3      -0.000000     -0.000000            0.000000      0.000000   \n",
       "4      -0.000000     -0.000000            0.000000      0.000000   \n",
       "..           ...           ...                 ...           ...   \n",
       "95 -85074.210327 -90016.940350        15059.496695 -19410.452122   \n",
       "96 -85074.210341 -90016.940364        15059.496694 -19410.452148   \n",
       "97 -85074.210351 -90016.940374        15059.496694 -19410.452166   \n",
       "98 -85074.210358 -90016.940380        15059.496693 -19410.452178   \n",
       "99 -85074.210363 -90016.940385        15059.496693 -19410.452187   \n",
       "\n",
       "    total_bedrooms    population    households  median_income         alpha  \n",
       "0         0.000000     -0.000000      0.000000       0.000000  1.000000e+10  \n",
       "1         0.000000     -0.000000      0.000000       0.000000  6.892612e+09  \n",
       "2         0.000000     -0.000000      0.000000       0.000000  4.750810e+09  \n",
       "3         0.000000     -0.000000      0.000000       0.000000  3.274549e+09  \n",
       "4         0.000000     -0.000000      0.000000       0.000000  2.257020e+09  \n",
       "..             ...           ...           ...            ...           ...  \n",
       "95    46603.838474 -41940.112033  19480.008205   76502.615658  4.430621e-06  \n",
       "96    46603.838501 -41940.112042  19480.008211   76502.615663  3.053856e-06  \n",
       "97    46603.838520 -41940.112048  19480.008216   76502.615667  2.104904e-06  \n",
       "98    46603.838533 -41940.112052  19480.008219   76502.615669  1.450829e-06  \n",
       "99    46603.838542 -41940.112055  19480.008221   76502.615671  1.000000e-06  \n",
       "\n",
       "[100 rows x 9 columns]"
      ]
     },
     "execution_count": 12,
     "metadata": {},
     "output_type": "execute_result"
    }
   ],
   "source": [
    "lasso_coefficient = []\n",
    "\n",
    "for alpha in alphas:\n",
    "    model_lasso = Lasso(alpha = alpha)\n",
    "    model_lasso.fit(X_train_scaled, Y_train)\n",
    "    lasso_coefficient.append(model_lasso.coef_)\n",
    "\n",
    "lasso_coefficient_df = pd.DataFrame(lasso_coefficient, columns = ['longitude', 'latitude', 'housing_median_age', 'total_rooms',\n",
    "       'total_bedrooms', 'population', 'households', 'median_income'])\n",
    "\n",
    "lasso_coefficient_df['alpha'] = alphas\n",
    "\n",
    "lasso_coefficient_df"
   ]
  },
  {
   "cell_type": "code",
   "execution_count": 13,
   "metadata": {},
   "outputs": [
    {
     "data": {
      "image/png": "[encoded data removed]",
      "text/plain": [
       "<Figure size 2160x720 with 1 Axes>"
      ]
     },
     "metadata": {
      "needs_background": "light"
     },
     "output_type": "display_data"
    }
   ],
   "source": [
    "plt.figure(figsize=(30, 10))\n",
    "plt.subplot(121)\n",
    "ax = plt.gca()\n",
    "ax.plot(alphas, lasso_coefficient)\n",
    "ax.set_xscale('log')\n",
    "plt.xlabel('alpha')\n",
    "plt.ylabel('weights')\n",
    "plt.title('Lasso coefficients as a function of the regularization Alpha parameter')\n",
    "plt.grid(color='0.1', linestyle='dotted')\n",
    "plt.show()"
   ]
  },
  {
   "cell_type": "code",
   "execution_count": 14,
   "metadata": {},
   "outputs": [
    {
     "data": {
      "text/html": [
       "<div>\n",
       "<style scoped>\n",
       "    .dataframe tbody tr th:only-of-type {\n",
       "        vertical-align: middle;\n",
       "    }\n",
       "\n",
       "    .dataframe tbody tr th {\n",
       "        vertical-align: top;\n",
       "    }\n",
       "\n",
       "    .dataframe thead th {\n",
       "        text-align: right;\n",
       "    }\n",
       "</style>\n",
       "<table border=\"1\" class=\"dataframe\">\n",
       "  <thead>\n",
       "    <tr style=\"text-align: right;\">\n",
       "      <th></th>\n",
       "      <th>longitude</th>\n",
       "      <th>latitude</th>\n",
       "      <th>housing_median_age</th>\n",
       "      <th>total_rooms</th>\n",
       "      <th>total_bedrooms</th>\n",
       "      <th>population</th>\n",
       "      <th>households</th>\n",
       "      <th>median_income</th>\n",
       "      <th>alpha</th>\n",
       "    </tr>\n",
       "  </thead>\n",
       "  <tbody>\n",
       "    <tr>\n",
       "      <th>0</th>\n",
       "      <td>-0.008723</td>\n",
       "      <td>-0.025036</td>\n",
       "      <td>0.020532</td>\n",
       "      <td>0.022714</td>\n",
       "      <td>0.007948</td>\n",
       "      <td>-0.004951</td>\n",
       "      <td>0.010730</td>\n",
       "      <td>0.121537</td>\n",
       "      <td>1.000000e+10</td>\n",
       "    </tr>\n",
       "    <tr>\n",
       "      <th>1</th>\n",
       "      <td>-0.012656</td>\n",
       "      <td>-0.036323</td>\n",
       "      <td>0.029789</td>\n",
       "      <td>0.032954</td>\n",
       "      <td>0.011531</td>\n",
       "      <td>-0.007182</td>\n",
       "      <td>0.015568</td>\n",
       "      <td>0.176330</td>\n",
       "      <td>6.892612e+09</td>\n",
       "    </tr>\n",
       "    <tr>\n",
       "      <th>2</th>\n",
       "      <td>-0.018361</td>\n",
       "      <td>-0.052698</td>\n",
       "      <td>0.043219</td>\n",
       "      <td>0.047811</td>\n",
       "      <td>0.016730</td>\n",
       "      <td>-0.010420</td>\n",
       "      <td>0.022586</td>\n",
       "      <td>0.255824</td>\n",
       "      <td>4.750810e+09</td>\n",
       "    </tr>\n",
       "    <tr>\n",
       "      <th>3</th>\n",
       "      <td>-0.026639</td>\n",
       "      <td>-0.076455</td>\n",
       "      <td>0.062703</td>\n",
       "      <td>0.069365</td>\n",
       "      <td>0.024272</td>\n",
       "      <td>-0.015118</td>\n",
       "      <td>0.032769</td>\n",
       "      <td>0.371156</td>\n",
       "      <td>3.274549e+09</td>\n",
       "    </tr>\n",
       "    <tr>\n",
       "      <th>4</th>\n",
       "      <td>-0.038649</td>\n",
       "      <td>-0.110924</td>\n",
       "      <td>0.090972</td>\n",
       "      <td>0.100636</td>\n",
       "      <td>0.035215</td>\n",
       "      <td>-0.021934</td>\n",
       "      <td>0.047542</td>\n",
       "      <td>0.538483</td>\n",
       "      <td>2.257020e+09</td>\n",
       "    </tr>\n",
       "    <tr>\n",
       "      <th>...</th>\n",
       "      <td>...</td>\n",
       "      <td>...</td>\n",
       "      <td>...</td>\n",
       "      <td>...</td>\n",
       "      <td>...</td>\n",
       "      <td>...</td>\n",
       "      <td>...</td>\n",
       "      <td>...</td>\n",
       "      <td>...</td>\n",
       "    </tr>\n",
       "    <tr>\n",
       "      <th>95</th>\n",
       "      <td>-85074.209992</td>\n",
       "      <td>-90016.940019</td>\n",
       "      <td>15059.496729</td>\n",
       "      <td>-19410.452074</td>\n",
       "      <td>46603.838143</td>\n",
       "      <td>-41940.112015</td>\n",
       "      <td>19480.008482</td>\n",
       "      <td>76502.615660</td>\n",
       "      <td>4.430621e-06</td>\n",
       "    </tr>\n",
       "    <tr>\n",
       "      <th>96</th>\n",
       "      <td>-85074.210111</td>\n",
       "      <td>-90016.940136</td>\n",
       "      <td>15059.496717</td>\n",
       "      <td>-19410.452115</td>\n",
       "      <td>46603.838273</td>\n",
       "      <td>-41940.112030</td>\n",
       "      <td>19480.008402</td>\n",
       "      <td>76502.615665</td>\n",
       "      <td>3.053856e-06</td>\n",
       "    </tr>\n",
       "    <tr>\n",
       "      <th>97</th>\n",
       "      <td>-85074.210192</td>\n",
       "      <td>-90016.940216</td>\n",
       "      <td>15059.496710</td>\n",
       "      <td>-19410.452143</td>\n",
       "      <td>46603.838363</td>\n",
       "      <td>-41940.112040</td>\n",
       "      <td>19480.008347</td>\n",
       "      <td>76502.615668</td>\n",
       "      <td>2.104904e-06</td>\n",
       "    </tr>\n",
       "    <tr>\n",
       "      <th>98</th>\n",
       "      <td>-85074.210248</td>\n",
       "      <td>-90016.940272</td>\n",
       "      <td>15059.496704</td>\n",
       "      <td>-19410.452163</td>\n",
       "      <td>46603.838425</td>\n",
       "      <td>-41940.112047</td>\n",
       "      <td>19480.008309</td>\n",
       "      <td>76502.615670</td>\n",
       "      <td>1.450829e-06</td>\n",
       "    </tr>\n",
       "    <tr>\n",
       "      <th>99</th>\n",
       "      <td>-85074.210287</td>\n",
       "      <td>-90016.940310</td>\n",
       "      <td>15059.496701</td>\n",
       "      <td>-19410.452176</td>\n",
       "      <td>46603.838467</td>\n",
       "      <td>-41940.112051</td>\n",
       "      <td>19480.008283</td>\n",
       "      <td>76502.615672</td>\n",
       "      <td>1.000000e-06</td>\n",
       "    </tr>\n",
       "  </tbody>\n",
       "</table>\n",
       "<p>100 rows × 9 columns</p>\n",
       "</div>"
      ],
      "text/plain": [
       "       longitude      latitude  housing_median_age   total_rooms  \\\n",
       "0      -0.008723     -0.025036            0.020532      0.022714   \n",
       "1      -0.012656     -0.036323            0.029789      0.032954   \n",
       "2      -0.018361     -0.052698            0.043219      0.047811   \n",
       "3      -0.026639     -0.076455            0.062703      0.069365   \n",
       "4      -0.038649     -0.110924            0.090972      0.100636   \n",
       "..           ...           ...                 ...           ...   \n",
       "95 -85074.209992 -90016.940019        15059.496729 -19410.452074   \n",
       "96 -85074.210111 -90016.940136        15059.496717 -19410.452115   \n",
       "97 -85074.210192 -90016.940216        15059.496710 -19410.452143   \n",
       "98 -85074.210248 -90016.940272        15059.496704 -19410.452163   \n",
       "99 -85074.210287 -90016.940310        15059.496701 -19410.452176   \n",
       "\n",
       "    total_bedrooms    population    households  median_income         alpha  \n",
       "0         0.007948     -0.004951      0.010730       0.121537  1.000000e+10  \n",
       "1         0.011531     -0.007182      0.015568       0.176330  6.892612e+09  \n",
       "2         0.016730     -0.010420      0.022586       0.255824  4.750810e+09  \n",
       "3         0.024272     -0.015118      0.032769       0.371156  3.274549e+09  \n",
       "4         0.035215     -0.021934      0.047542       0.538483  2.257020e+09  \n",
       "..             ...           ...           ...            ...           ...  \n",
       "95    46603.838143 -41940.112015  19480.008482   76502.615660  4.430621e-06  \n",
       "96    46603.838273 -41940.112030  19480.008402   76502.615665  3.053856e-06  \n",
       "97    46603.838363 -41940.112040  19480.008347   76502.615668  2.104904e-06  \n",
       "98    46603.838425 -41940.112047  19480.008309   76502.615670  1.450829e-06  \n",
       "99    46603.838467 -41940.112051  19480.008283   76502.615672  1.000000e-06  \n",
       "\n",
       "[100 rows x 9 columns]"
      ]
     },
     "execution_count": 14,
     "metadata": {},
     "output_type": "execute_result"
    }
   ],
   "source": [
    "ridge_coefficient = []\n",
    "\n",
    "for alpha in alphas:\n",
    "    model_ridge = Ridge(alpha = alpha)\n",
    "    model_ridge.fit(X_train_scaled, Y_train)\n",
    "    ridge_coefficient.append(model_ridge.coef_)\n",
    "\n",
    "ridge_coefficient_df = pd.DataFrame(ridge_coefficient, columns = ['longitude', 'latitude', 'housing_median_age', 'total_rooms',\n",
    "       'total_bedrooms', 'population', 'households', 'median_income'])\n",
    "\n",
    "ridge_coefficient_df['alpha'] = alphas\n",
    "\n",
    "ridge_coefficient_df"
   ]
  },
  {
   "cell_type": "code",
   "execution_count": 16,
   "metadata": {},
   "outputs": [
    {
     "data": {
      "image/png": "[encoded data removed]",
      "text/plain": [
       "<Figure size 2160x720 with 1 Axes>"
      ]
     },
     "metadata": {
      "needs_background": "light"
     },
     "output_type": "display_data"
    }
   ],
   "source": [
    "plt.figure(figsize=(30, 10))\n",
    "plt.subplot(121)\n",
    "ax = plt.gca()\n",
    "ax.plot(alphas, ridge_coefficient)\n",
    "ax.set_xscale('log')\n",
    "plt.xlabel('alpha')\n",
    "plt.ylabel('weights')\n",
    "plt.title('Ridge coefficients as a function of the regularization Alpha parameter')\n",
    "plt.grid(color='0.1', linestyle='dotted')\n",
    "plt.show()"
   ]
  },
  {
   "cell_type": "markdown",
   "metadata": {},
   "source": [
    "#### **Part B**"
   ]
  },
  {
   "cell_type": "raw",
   "metadata": {},
   "source": [
    "We can see from the two graphs above that the value of coefficients decreases as the regularization parameters' values rise. This is due to the fact that when the regularization value rises, we are applying a greater penalty to the cost function. \n",
    "At ridge, we can observe that there is a smooth shrinking of coefficients, and the coefficients shrink to a value that is nearly zero (but not exactly) for alpha values greater than 100,000. \n",
    "As we increase the value of the regularization parameters for lasso, we can see that the coefficients become zero."
   ]
  },
  {
   "cell_type": "markdown",
   "metadata": {},
   "source": [
    "### 4) \n",
    "### a) Similarly, use sklearn.linear_model.ElasticNet to do linear regression with different α values, and plot the coefficients learned for each of them (2 pts).\n",
    "### b) Observe the plot, then explain the pros and cons of ridge, lasso and Elastic Net models. (3pts)"
   ]
  },
  {
   "cell_type": "markdown",
   "metadata": {},
   "source": [
    "__Part 4a)__"
   ]
  },
  {
   "cell_type": "code",
   "execution_count": 17,
   "metadata": {},
   "outputs": [
    {
     "data": {
      "text/html": [
       "<div>\n",
       "<style scoped>\n",
       "    .dataframe tbody tr th:only-of-type {\n",
       "        vertical-align: middle;\n",
       "    }\n",
       "\n",
       "    .dataframe tbody tr th {\n",
       "        vertical-align: top;\n",
       "    }\n",
       "\n",
       "    .dataframe thead th {\n",
       "        text-align: right;\n",
       "    }\n",
       "</style>\n",
       "<table border=\"1\" class=\"dataframe\">\n",
       "  <thead>\n",
       "    <tr style=\"text-align: right;\">\n",
       "      <th></th>\n",
       "      <th>longitude</th>\n",
       "      <th>latitude</th>\n",
       "      <th>housing_median_age</th>\n",
       "      <th>total_rooms</th>\n",
       "      <th>total_bedrooms</th>\n",
       "      <th>population</th>\n",
       "      <th>households</th>\n",
       "      <th>median_income</th>\n",
       "      <th>alpha</th>\n",
       "    </tr>\n",
       "  </thead>\n",
       "  <tbody>\n",
       "    <tr>\n",
       "      <th>0</th>\n",
       "      <td>-0.000000</td>\n",
       "      <td>-0.000000</td>\n",
       "      <td>0.000000</td>\n",
       "      <td>0.000000</td>\n",
       "      <td>0.000000</td>\n",
       "      <td>-0.000000</td>\n",
       "      <td>0.000000</td>\n",
       "      <td>0.000000</td>\n",
       "      <td>1.000000e+10</td>\n",
       "    </tr>\n",
       "    <tr>\n",
       "      <th>1</th>\n",
       "      <td>-0.000000</td>\n",
       "      <td>-0.000000</td>\n",
       "      <td>0.000000</td>\n",
       "      <td>0.000000</td>\n",
       "      <td>0.000000</td>\n",
       "      <td>-0.000000</td>\n",
       "      <td>0.000000</td>\n",
       "      <td>0.000000</td>\n",
       "      <td>6.892612e+09</td>\n",
       "    </tr>\n",
       "    <tr>\n",
       "      <th>2</th>\n",
       "      <td>-0.000000</td>\n",
       "      <td>-0.000000</td>\n",
       "      <td>0.000000</td>\n",
       "      <td>0.000000</td>\n",
       "      <td>0.000000</td>\n",
       "      <td>-0.000000</td>\n",
       "      <td>0.000000</td>\n",
       "      <td>0.000000</td>\n",
       "      <td>4.750810e+09</td>\n",
       "    </tr>\n",
       "    <tr>\n",
       "      <th>3</th>\n",
       "      <td>-0.000000</td>\n",
       "      <td>-0.000000</td>\n",
       "      <td>0.000000</td>\n",
       "      <td>0.000000</td>\n",
       "      <td>0.000000</td>\n",
       "      <td>-0.000000</td>\n",
       "      <td>0.000000</td>\n",
       "      <td>0.000000</td>\n",
       "      <td>3.274549e+09</td>\n",
       "    </tr>\n",
       "    <tr>\n",
       "      <th>4</th>\n",
       "      <td>-0.000000</td>\n",
       "      <td>-0.000000</td>\n",
       "      <td>0.000000</td>\n",
       "      <td>0.000000</td>\n",
       "      <td>0.000000</td>\n",
       "      <td>-0.000000</td>\n",
       "      <td>0.000000</td>\n",
       "      <td>0.000000</td>\n",
       "      <td>2.257020e+09</td>\n",
       "    </tr>\n",
       "    <tr>\n",
       "      <th>...</th>\n",
       "      <td>...</td>\n",
       "      <td>...</td>\n",
       "      <td>...</td>\n",
       "      <td>...</td>\n",
       "      <td>...</td>\n",
       "      <td>...</td>\n",
       "      <td>...</td>\n",
       "      <td>...</td>\n",
       "      <td>...</td>\n",
       "    </tr>\n",
       "    <tr>\n",
       "      <th>95</th>\n",
       "      <td>-85071.294749</td>\n",
       "      <td>-90014.057167</td>\n",
       "      <td>15059.775302</td>\n",
       "      <td>-19409.441092</td>\n",
       "      <td>46600.628909</td>\n",
       "      <td>-41939.752933</td>\n",
       "      <td>19481.973303</td>\n",
       "      <td>76502.504652</td>\n",
       "      <td>4.430621e-06</td>\n",
       "    </tr>\n",
       "    <tr>\n",
       "      <th>96</th>\n",
       "      <td>-85072.200719</td>\n",
       "      <td>-90014.953072</td>\n",
       "      <td>15059.688730</td>\n",
       "      <td>-19409.755267</td>\n",
       "      <td>46601.626189</td>\n",
       "      <td>-41939.864540</td>\n",
       "      <td>19481.362755</td>\n",
       "      <td>76502.539149</td>\n",
       "      <td>3.053856e-06</td>\n",
       "    </tr>\n",
       "    <tr>\n",
       "      <th>97</th>\n",
       "      <td>-85072.825184</td>\n",
       "      <td>-90015.570598</td>\n",
       "      <td>15059.629057</td>\n",
       "      <td>-19409.971825</td>\n",
       "      <td>46602.313620</td>\n",
       "      <td>-41939.941461</td>\n",
       "      <td>19480.941887</td>\n",
       "      <td>76502.562927</td>\n",
       "      <td>2.104904e-06</td>\n",
       "    </tr>\n",
       "    <tr>\n",
       "      <th>98</th>\n",
       "      <td>-85073.255610</td>\n",
       "      <td>-90015.996242</td>\n",
       "      <td>15059.587927</td>\n",
       "      <td>-19410.121094</td>\n",
       "      <td>46602.787460</td>\n",
       "      <td>-41939.994476</td>\n",
       "      <td>19480.651780</td>\n",
       "      <td>76502.579318</td>\n",
       "      <td>1.450829e-06</td>\n",
       "    </tr>\n",
       "    <tr>\n",
       "      <th>99</th>\n",
       "      <td>-85073.552289</td>\n",
       "      <td>-90016.289624</td>\n",
       "      <td>15059.559577</td>\n",
       "      <td>-19410.223982</td>\n",
       "      <td>46603.114069</td>\n",
       "      <td>-41940.031016</td>\n",
       "      <td>19480.451811</td>\n",
       "      <td>76502.590615</td>\n",
       "      <td>1.000000e-06</td>\n",
       "    </tr>\n",
       "  </tbody>\n",
       "</table>\n",
       "<p>100 rows × 9 columns</p>\n",
       "</div>"
      ],
      "text/plain": [
       "       longitude      latitude  housing_median_age   total_rooms  \\\n",
       "0      -0.000000     -0.000000            0.000000      0.000000   \n",
       "1      -0.000000     -0.000000            0.000000      0.000000   \n",
       "2      -0.000000     -0.000000            0.000000      0.000000   \n",
       "3      -0.000000     -0.000000            0.000000      0.000000   \n",
       "4      -0.000000     -0.000000            0.000000      0.000000   \n",
       "..           ...           ...                 ...           ...   \n",
       "95 -85071.294749 -90014.057167        15059.775302 -19409.441092   \n",
       "96 -85072.200719 -90014.953072        15059.688730 -19409.755267   \n",
       "97 -85072.825184 -90015.570598        15059.629057 -19409.971825   \n",
       "98 -85073.255610 -90015.996242        15059.587927 -19410.121094   \n",
       "99 -85073.552289 -90016.289624        15059.559577 -19410.223982   \n",
       "\n",
       "    total_bedrooms    population    households  median_income         alpha  \n",
       "0         0.000000     -0.000000      0.000000       0.000000  1.000000e+10  \n",
       "1         0.000000     -0.000000      0.000000       0.000000  6.892612e+09  \n",
       "2         0.000000     -0.000000      0.000000       0.000000  4.750810e+09  \n",
       "3         0.000000     -0.000000      0.000000       0.000000  3.274549e+09  \n",
       "4         0.000000     -0.000000      0.000000       0.000000  2.257020e+09  \n",
       "..             ...           ...           ...            ...           ...  \n",
       "95    46600.628909 -41939.752933  19481.973303   76502.504652  4.430621e-06  \n",
       "96    46601.626189 -41939.864540  19481.362755   76502.539149  3.053856e-06  \n",
       "97    46602.313620 -41939.941461  19480.941887   76502.562927  2.104904e-06  \n",
       "98    46602.787460 -41939.994476  19480.651780   76502.579318  1.450829e-06  \n",
       "99    46603.114069 -41940.031016  19480.451811   76502.590615  1.000000e-06  \n",
       "\n",
       "[100 rows x 9 columns]"
      ]
     },
     "execution_count": 17,
     "metadata": {},
     "output_type": "execute_result"
    }
   ],
   "source": [
    "elasticnet_coffecient = []\n",
    "\n",
    "for alpha in alphas:\n",
    "    model_elasticnet = ElasticNet(alpha = alpha)\n",
    "    model_elasticnet.fit(X_train_scaled, Y_train)\n",
    "    elasticnet_coffecient.append(model_elasticnet.coef_)\n",
    "\n",
    "elasticnet_coffecient_df = pd.DataFrame(elasticnet_coffecient, columns = ['longitude', 'latitude', 'housing_median_age', 'total_rooms',\n",
    "       'total_bedrooms', 'population', 'households', 'median_income'])\n",
    "\n",
    "elasticnet_coffecient_df['alpha'] = alphas\n",
    "\n",
    "elasticnet_coffecient_df"
   ]
  },
  {
   "cell_type": "code",
   "execution_count": 18,
   "metadata": {},
   "outputs": [
    {
     "data": {
      "image/png": "[encoded data removed]",
      "text/plain": [
       "<Figure size 2160x720 with 1 Axes>"
      ]
     },
     "metadata": {
      "needs_background": "light"
     },
     "output_type": "display_data"
    }
   ],
   "source": [
    "plt.figure(figsize=(30, 10))\n",
    "plt.subplot(121)\n",
    "ax = plt.gca()\n",
    "ax.plot(alphas, elasticnet_coffecient)\n",
    "ax.set_xscale('log')\n",
    "plt.xlabel('alpha')\n",
    "plt.ylabel('weights')\n",
    "plt.title('Elastic Net coefficients as a function of the regularization Alpha parameter')\n",
    "plt.grid(color='0.1', linestyle='dotted')\n",
    "plt.show()"
   ]
  },
  {
   "cell_type": "markdown",
   "metadata": {},
   "source": [
    "__Part 4b)__"
   ]
  },
  {
   "cell_type": "raw",
   "metadata": {},
   "source": [
    "\n",
    "1) Ridge regression is ideal when most of the variables used to construct the model are useful in prediction of the target variable.\n",
    "2) One key advantage of Lasso regression is that it eliminates the irrelevant variables that might be added in the model building process. The coefficients for these variables are actually 0, something that never happens in Ridge regression. Ridge regression would shrink the irrelevant parameters but never remove them completely.\n",
    "3)  Elastic Net regression can be summarised as a combination of Lasso (lambda1) and Ridge (lambda2) regression since it combines the penalty term used in both the aforementioned models. When only lambda1 = 0, then we only have the Ridge regression penalty term and when only lambda1 = 0, we have the penalty terms for Lasso regression. Thus, we are able to account for a tradeoff between the two constantly. The values of lambdas are found usually through cross validation.\n",
    "4) Elastic Net regression is excellent at dealing with correlated terms. On the other hand, Lasso regression tends to choose one of the correlated terms and Ridge regression ends up shrinking or regularizing all of the paramters or eliminates all of them.\n",
    "5) All aforementioned models (Lasso, Ridge, Elastic Net) help in regularization and therfore, prevent overfitting of the data."
   ]
  },
  {
   "cell_type": "markdown",
   "metadata": {},
   "source": [
    "### 5) Run the following three regression models with MSE loss on the training data (5 pts): \n",
    "\n",
    "a) linear regression without regularization (1pts)\n",
    "\n",
    "b) linear regression with ridge regularization (2pts)\n",
    "\n",
    "c) linear regression with lasso regularization (2pts)\n",
    "\n",
    "For part (b) and (c), use only the best regularization parameters. Report the MSE and R2 on the test data for each of the models.\n"
   ]
  },
  {
   "cell_type": "code",
   "execution_count": 19,
   "metadata": {},
   "outputs": [
    {
     "name": "stdout",
     "output_type": "stream",
     "text": [
      "MSE 4861014374.694436\n",
      "R-square 0.6384697484766777\n"
     ]
    }
   ],
   "source": [
    "lreg = LinearRegression()\n",
    "lreg.fit(X_train_scaled,Y_train)\n",
    "pred_lr = lreg.predict(X_test_scaled)\n",
    "print(\"MSE\",mean_squared_error(Y_test,pred_lr))\n",
    "print(\"R-square\",r2_score(Y_test,pred_lr))"
   ]
  },
  {
   "cell_type": "code",
   "execution_count": 20,
   "metadata": {},
   "outputs": [
    {
     "name": "stdout",
     "output_type": "stream",
     "text": [
      "MSE 4862033426.920186\n",
      "R-square 0.638393958080046\n"
     ]
    }
   ],
   "source": [
    "ridgeReg = Ridge(alpha=12.9155)\n",
    "ridgeReg.fit(X_train_scaled,Y_train)\n",
    "pred_ridge = ridgeReg.predict(X_test_scaled)\n",
    "print(\"MSE\",mean_squared_error(Y_test,pred_ridge))\n",
    "print(\"R-square\",r2_score(Y_test,pred_ridge))"
   ]
  },
  {
   "cell_type": "code",
   "execution_count": 21,
   "metadata": {},
   "outputs": [
    {
     "name": "stdout",
     "output_type": "stream",
     "text": [
      "MSE 4861064406.631814\n",
      "R-square 0.6384660274305112\n"
     ]
    }
   ],
   "source": [
    "LassoReg = Lasso(alpha=57.2237)\n",
    "LassoReg.fit(X_train_scaled,Y_train)\n",
    "pred_lasso = LassoReg.predict(X_test_scaled)\n",
    "print(\"MSE\",mean_squared_error(Y_test,pred_lasso))\n",
    "print(\"R-square\",r2_score(Y_test,pred_lasso))"
   ]
  },
  {
   "cell_type": "markdown",
   "metadata": {},
   "source": [
    "\n",
    "### 6) Train the 3 models and report metrics with the original data without scaling (3pts)\n"
   ]
  },
  {
   "cell_type": "code",
   "execution_count": 22,
   "metadata": {},
   "outputs": [
    {
     "name": "stdout",
     "output_type": "stream",
     "text": [
      "MSE 4861014374.694436\n",
      "R-square 0.6384697484766777\n"
     ]
    }
   ],
   "source": [
    "lreg = LinearRegression()\n",
    "lreg.fit(X_train,Y_train)\n",
    "pred_lr_unscaled = lreg.predict(X_test)\n",
    "print(\"MSE\",mean_squared_error(Y_test,pred_lr))\n",
    "print(\"R-square\",r2_score(Y_test,pred_lr))"
   ]
  },
  {
   "cell_type": "code",
   "execution_count": 23,
   "metadata": {
    "scrolled": true,
    "tags": []
   },
   "outputs": [
    {
     "name": "stdout",
     "output_type": "stream",
     "text": [
      "MSE 4861196832.7732\n",
      "R-square 0.638456178445811\n"
     ]
    }
   ],
   "source": [
    "ridgeReg = Ridge(alpha=12.9155)\n",
    "ridgeReg.fit(X_train,Y_train)\n",
    "pred_ridge_unscaled = ridgeReg.predict(X_test)\n",
    "print(\"MSE\",mean_squared_error(Y_test,pred_ridge_unscaled))\n",
    "print(\"R-square\",r2_score(Y_test,pred_ridge_unscaled))"
   ]
  },
  {
   "cell_type": "code",
   "execution_count": 24,
   "metadata": {
    "scrolled": true,
    "tags": []
   },
   "outputs": [
    {
     "name": "stdout",
     "output_type": "stream",
     "text": [
      "MSE 4861296394.878185\n",
      "R-square 0.6384487736718105\n"
     ]
    }
   ],
   "source": [
    "LassoReg = Lasso(alpha=57.2237)\n",
    "LassoReg.fit(X_train,Y_train)\n",
    "pred_lasso_unscaled = LassoReg.predict(X_test)\n",
    "print(\"MSE\",mean_squared_error(Y_test,pred_lasso_unscaled))\n",
    "print(\"R-square\",r2_score(Y_test,pred_lasso_unscaled))"
   ]
  },
  {
   "cell_type": "markdown",
   "metadata": {},
   "source": [
    "\n",
    "### 7) Why did we have to scale the data in ridge and lasso regression? (3 pts)"
   ]
  },
  {
   "cell_type": "raw",
   "metadata": {},
   "source": [
    "\n",
    "The size of each variable's related coefficient is constrained via lasso regression. However, the magnitude of each variable will affect this value. Therefore, it is vital to decrease and standardize the variables. \n",
    "\n",
    "The result of centering the variables means that there is no longer an intercept. This holds true for ridge regression as well.\n",
    "\n",
    "One practical point is that standardisation assists in imporved interpretability of the models."
   ]
  }
 ],
 "metadata": {
  "colab": {
   "collapsed_sections": [],
   "name": "Advanced_ML_HW1.ipynb",
   "provenance": []
  },
  "kernelspec": {
   "display_name": "Python 3 (ipykernel)",
   "language": "python",
   "name": "python3"
  },
  "language_info": {
   "codemirror_mode": {
    "name": "ipython",
    "version": 3
   },
   "file_extension": ".py",
   "mimetype": "text/x-python",
   "name": "python",
   "nbconvert_exporter": "python",
   "pygments_lexer": "ipython3",
   "version": "3.9.12"
  }
 },
 "nbformat": 4,
 "nbformat_minor": 4
}
