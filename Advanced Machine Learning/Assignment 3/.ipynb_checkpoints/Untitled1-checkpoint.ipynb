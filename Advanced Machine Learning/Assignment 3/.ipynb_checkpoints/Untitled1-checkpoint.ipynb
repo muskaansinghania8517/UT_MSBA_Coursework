{
 "cells": [
  {
   "cell_type": "code",
   "execution_count": 41,
   "id": "31eb72b9-85d7-463d-a8b5-74e9c574603a",
   "metadata": {},
   "outputs": [],
   "source": [
    "import numpy as np\n",
    "import gurobipy as gp"
   ]
  },
  {
   "cell_type": "markdown",
   "id": "545d6d45-793e-4e87-a41a-30cd9c437f91",
   "metadata": {},
   "source": [
    "#Question 1"
   ]
  },
  {
   "cell_type": "code",
   "execution_count": 20,
   "id": "2b7bbe72-75a8-49b6-b311-fbda69192932",
   "metadata": {},
   "outputs": [],
   "source": [
    "A = np.array([[1.,0.,0.,1.],[1.,1.,1.,1.],[1.,-1.,1.,5.],[-1.,1.,0.,0.]])"
   ]
  },
  {
   "cell_type": "code",
   "execution_count": 21,
   "id": "52219a8a-4b1b-47fa-9c39-d6a689c7761a",
   "metadata": {},
   "outputs": [
    {
     "data": {
      "text/plain": [
       "array([[ 1.,  0.,  0.,  1.],\n",
       "       [ 1.,  1.,  1.,  1.],\n",
       "       [ 1., -1.,  1.,  5.],\n",
       "       [-1.,  1.,  0.,  0.]])"
      ]
     },
     "execution_count": 21,
     "metadata": {},
     "output_type": "execute_result"
    }
   ],
   "source": [
    "A"
   ]
  },
  {
   "cell_type": "code",
   "execution_count": 22,
   "id": "1108d7fa-2b5d-4c83-80b9-1924153f8d12",
   "metadata": {},
   "outputs": [],
   "source": [
    "b = np.array([2.,98.,114.,2.])"
   ]
  },
  {
   "cell_type": "code",
   "execution_count": 23,
   "id": "52dd4a2f-8fcd-4b17-9322-6e7b8d13021e",
   "metadata": {},
   "outputs": [
    {
     "data": {
      "text/plain": [
       "array([-2.,  0., 96.,  4.])"
      ]
     },
     "execution_count": 23,
     "metadata": {},
     "output_type": "execute_result"
    }
   ],
   "source": [
    "sol = np.linalg.solve(A,b)\n",
    "sol"
   ]
  },
  {
   "cell_type": "code",
   "execution_count": 26,
   "id": "7d65beda-3ac7-4c12-96ea-7f61a2398b0f",
   "metadata": {},
   "outputs": [
    {
     "data": {
      "text/plain": [
       "array([[ 1.,  0.,  0.,  1.],\n",
       "       [ 1.,  1.,  1.,  1.],\n",
       "       [ 1., -1.,  1.,  5.],\n",
       "       [-1.,  1.,  0.,  0.]])"
      ]
     },
     "execution_count": 26,
     "metadata": {},
     "output_type": "execute_result"
    }
   ],
   "source": [
    "A = np.zeros((4,4))\n",
    "A[0,:] = [1,0,0,1]\n",
    "A[1,:] = [1,1,1,1]\n",
    "A[2,:] = [1,-1,1,5]\n",
    "A[3,:] = [-1,1,0,0]\n",
    "A"
   ]
  },
  {
   "cell_type": "code",
   "execution_count": 27,
   "id": "0aa6dd69-a41f-49ce-9815-8e039673e57b",
   "metadata": {},
   "outputs": [
    {
     "data": {
      "text/plain": [
       "array([  2,  98, 114,   2])"
      ]
     },
     "execution_count": 27,
     "metadata": {},
     "output_type": "execute_result"
    }
   ],
   "source": [
    "b = np.array([2,98,114,2])\n",
    "b"
   ]
  },
  {
   "cell_type": "code",
   "execution_count": 29,
   "id": "0e92da95-8f64-4c68-9f43-b6cfb5811a50",
   "metadata": {},
   "outputs": [
    {
     "data": {
      "text/plain": [
       "array([-2.,  0., 96.,  4.])"
      ]
     },
     "execution_count": 29,
     "metadata": {},
     "output_type": "execute_result"
    }
   ],
   "source": [
    "np.linalg.inv(A)@b\n"
   ]
  },
  {
   "cell_type": "markdown",
   "id": "e3e4d9a8-2263-48fb-8e5f-9c6e49f43692",
   "metadata": {},
   "source": [
    "## Question Optimization"
   ]
  },
  {
   "cell_type": "code",
   "execution_count": 44,
   "id": "53bda883",
   "metadata": {},
   "outputs": [],
   "source": [
    "obj = np.array([125,-15,75,75,-15,100]) \n",
    "\n",
    "A = np.zeros((11,6)) \n",
    "A[0,:] = [300,15,100,300,15,100]\n",
    "A[1,:] = [4,-1,0,0,0,0]\n",
    "A[2,:] = [0,0,0,5,-1,0] \n",
    "A[3,:] = [0,0,0,-1,0,1] \n",
    "A[4,:] = [((-1)/500),((1)/300),0,0,0,0] \n",
    "A[5,:] = [0,0,0,((-1)/500),((1)/300),0] \n",
    "A[6,:] = [1,0,0,0,0,0] \n",
    "A[7,:] = [0,1,0,0,0,0] \n",
    "A[8,:] = [0,0,0,1,0,0] \n",
    "A[9,:] = [0,0,0,0,1,0] \n",
    "A[10,:] = [0,0,0,0,0,1] \n",
    "\n",
    "\n",
    "b = np.array([4100,0,0,0,0.05,0.035,4,10,2,10,3]) \n",
    "sense = np.array(['<','<','<','>','>','>','>','>','>','>','>']) \n",
    "ojModel = gp.Model() \n",
    "\n",
    "ojModX = ojModel.addMVar(6) \n",
    "\n",
    "ojModCon = ojModel.addMConstrs(A, ojModX, sense, b) \n",
    "ojModel.setMObjective(None,obj,0,sense=gp.GRB.MAXIMIZE) \n",
    "ojModel.Params.OutputFlag = 0 \n",
    "ojModel.Params.TimeLimit = 3600\n",
    "\n",
    "ojModel.optimize() "
   ]
  },
  {
   "cell_type": "code",
   "execution_count": 45,
   "id": "5108d999",
   "metadata": {},
   "outputs": [
    {
     "data": {
      "text/plain": [
       "2077.0"
      ]
     },
     "execution_count": 45,
     "metadata": {},
     "output_type": "execute_result"
    }
   ],
   "source": [
    "ojModel.objVal "
   ]
  },
  {
   "cell_type": "code",
   "execution_count": 46,
   "id": "6eaf231c",
   "metadata": {},
   "outputs": [
    {
     "data": {
      "text/plain": [
       "array([ 4.   , 17.4  ,  0.   ,  2.   , 11.7  , 18.635])"
      ]
     },
     "execution_count": 46,
     "metadata": {},
     "output_type": "execute_result"
    }
   ],
   "source": [
    "ojModX.x "
   ]
  },
  {
   "cell_type": "code",
   "execution_count": 44,
   "id": "7b40d515",
   "metadata": {},
   "outputs": [
    {
     "data": {
      "text/plain": [
       "[<gurobi.Var C0 (value 4.0)>,\n",
       " <gurobi.Var C1 (value 17.4)>,\n",
       " <gurobi.Var C2 (value 0.0)>,\n",
       " <gurobi.Var C3 (value 2.0)>,\n",
       " <gurobi.Var C4 (value 11.700000000000001)>,\n",
       " <gurobi.Var C5 (value 18.635)>]"
      ]
     },
     "execution_count": 44,
     "metadata": {},
     "output_type": "execute_result"
    }
   ],
   "source": [
    "ojModel.getVars() "
   ]
  },
  {
   "cell_type": "code",
   "execution_count": 45,
   "id": "503713dc",
   "metadata": {},
   "outputs": [
    {
     "data": {
      "text/plain": [
       "[0.0,\n",
       " -1.3999999999999986,\n",
       " -1.700000000000001,\n",
       " 16.635,\n",
       " -6.938893903907228e-18,\n",
       " 0.0,\n",
       " 0.0,\n",
       " 7.399999999999999,\n",
       " 0.0,\n",
       " 1.700000000000001,\n",
       " 15.635000000000002]"
      ]
     },
     "execution_count": 45,
     "metadata": {},
     "output_type": "execute_result"
    }
   ],
   "source": [
    "\n",
    "sol = np.array(ojModel.X)\n",
    "\n",
    "slack_list = []\n",
    "for i in range(0, len(b)):\n",
    "    slack_list.append(np.dot(A[i],sol) - b[i])\n",
    "\n",
    "slack_list\n"
   ]
  },
  {
   "cell_type": "code",
   "execution_count": 46,
   "id": "c5eec766",
   "metadata": {},
   "outputs": [
    {
     "data": {
      "text/plain": [
       "[1.0, 0.0, 0.0, 0.0, -9000.0, -9000.0, -193.0, 0.0, -243.0, 0.0, 0.0]"
      ]
     },
     "execution_count": 46,
     "metadata": {},
     "output_type": "execute_result"
    }
   ],
   "source": [
    "[con.Pi for con in ojModCon]"
   ]
  },
  {
   "cell_type": "code",
   "execution_count": 47,
   "id": "94b31778",
   "metadata": {},
   "outputs": [
    {
     "data": {
      "text/plain": [
       "[2536.5,\n",
       " -1.4000000000000021,\n",
       " -1.7000000000000028,\n",
       " -inf,\n",
       " 0.04533333333333333,\n",
       " 0.02933333333333333,\n",
       " -0.0,\n",
       " -inf,\n",
       " -0.0,\n",
       " -inf,\n",
       " -inf]"
      ]
     },
     "execution_count": 47,
     "metadata": {},
     "output_type": "execute_result"
    }
   ],
   "source": [
    "[con.SARHSLow for con in ojModCon]"
   ]
  },
  {
   "cell_type": "code",
   "execution_count": 48,
   "id": "5f6895db",
   "metadata": {},
   "outputs": [
    {
     "data": {
      "text/plain": [
       "[inf,\n",
       " inf,\n",
       " inf,\n",
       " 16.635,\n",
       " 0.3974444444444445,\n",
       " 0.3824444444444445,\n",
       " 4.411764705882353,\n",
       " 17.400000000000002,\n",
       " 2.386363636363637,\n",
       " 11.700000000000003,\n",
       " 18.635]"
      ]
     },
     "execution_count": 48,
     "metadata": {},
     "output_type": "execute_result"
    }
   ],
   "source": [
    "[con.SARHSUp for con in ojModCon]"
   ]
  },
  {
   "cell_type": "code",
   "execution_count": 49,
   "id": "f7747e5b",
   "metadata": {},
   "outputs": [
    {
     "data": {
      "text/plain": [
       "array([-inf, -inf, -inf, -inf, -inf,  75.])"
      ]
     },
     "execution_count": 49,
     "metadata": {},
     "output_type": "execute_result"
    }
   ],
   "source": [
    "ojModX.SAObjLow"
   ]
  },
  {
   "cell_type": "code",
   "execution_count": 50,
   "id": "f7bd22cb",
   "metadata": {},
   "outputs": [
    {
     "data": {
      "text/plain": [
       "array([318.,  15., 100., 318.,  15.,  inf])"
      ]
     },
     "execution_count": 50,
     "metadata": {},
     "output_type": "execute_result"
    }
   ],
   "source": [
    "ojModX.SAObjUp"
   ]
  },
  {
   "cell_type": "code",
   "execution_count": 30,
   "id": "f9127241-ee7f-419b-9159-ed40e624a820",
   "metadata": {},
   "outputs": [],
   "source": [
    "A = np.array([[1.,0.,0.,1.],[1.,1.,1.,1.],[1.,-1.,1.,5.],[-1.,1.,0.,0.],[1,1,1,1]])"
   ]
  },
  {
   "cell_type": "code",
   "execution_count": 31,
   "id": "7f73db6c-0556-45f6-839a-f4cea22753ff",
   "metadata": {},
   "outputs": [],
   "source": [
    "B = np.array([[1.,0.,0.,1.,1],[1.,1.,1.,1.,1],[1.,-1.,1.,5.,1],[-1.,1.,0.,0.,1],[1,1,1,1,1],[1,1,1,1,1]])"
   ]
  },
  {
   "cell_type": "code",
   "execution_count": 32,
   "id": "c3c619ff-1758-4970-abd7-6682e1b02090",
   "metadata": {},
   "outputs": [
    {
     "data": {
      "text/plain": [
       "array([[ 1.,  0.,  0.,  1.],\n",
       "       [ 1.,  1.,  1.,  1.],\n",
       "       [ 1., -1.,  1.,  5.],\n",
       "       [-1.,  1.,  0.,  0.],\n",
       "       [ 1.,  1.,  1.,  1.]])"
      ]
     },
     "execution_count": 32,
     "metadata": {},
     "output_type": "execute_result"
    }
   ],
   "source": [
    "A"
   ]
  },
  {
   "cell_type": "code",
   "execution_count": 33,
   "id": "3a5e4933-08ec-489e-bebf-381082232302",
   "metadata": {},
   "outputs": [
    {
     "data": {
      "text/plain": [
       "array([[ 1.,  0.,  0.,  1.,  1.],\n",
       "       [ 1.,  1.,  1.,  1.,  1.],\n",
       "       [ 1., -1.,  1.,  5.,  1.],\n",
       "       [-1.,  1.,  0.,  0.,  1.],\n",
       "       [ 1.,  1.,  1.,  1.,  1.],\n",
       "       [ 1.,  1.,  1.,  1.,  1.]])"
      ]
     },
     "execution_count": 33,
     "metadata": {},
     "output_type": "execute_result"
    }
   ],
   "source": [
    "B"
   ]
  },
  {
   "cell_type": "code",
   "execution_count": null,
   "id": "1764de15-77cc-4555-ae4f-43f163abdec0",
   "metadata": {},
   "outputs": [
    {
     "ename": "ValueError",
     "evalue": "operands could not be broadcast together with shapes (5,4) (6,5) ",
     "output_type": "error",
     "traceback": [
      "\u001b[0;31m---------------------------------------------------------------------------\u001b[0m",
      "\u001b[0;31mValueError\u001b[0m                                Traceback (most recent call last)",
      "Input \u001b[0;32mIn [34]\u001b[0m, in \u001b[0;36m<cell line: 1>\u001b[0;34m()\u001b[0m\n\u001b[0;32m----> 1\u001b[0m \u001b[43mA\u001b[49m\u001b[38;5;241;43m+\u001b[39;49m\u001b[43mB\u001b[49m\n",
      "\u001b[0;31mValueError\u001b[0m: operands could not be broadcast together with shapes (5,4) (6,5) "
     ]
    }
   ],
   "source": [
    "A+B"
   ]
  },
  {
   "cell_type": "code",
   "execution_count": null,
   "id": "600ee91c-e4fc-40af-9e82-862033e970ad",
   "metadata": {},
   "outputs": [
    {
     "ename": "ValueError",
     "evalue": "operands could not be broadcast together with shapes (5,4) (6,5) ",
     "output_type": "error",
     "traceback": [
      "\u001b[0;31m---------------------------------------------------------------------------\u001b[0m",
      "\u001b[0;31mValueError\u001b[0m                                Traceback (most recent call last)",
      "Input \u001b[0;32mIn [35]\u001b[0m, in \u001b[0;36m<cell line: 1>\u001b[0;34m()\u001b[0m\n\u001b[0;32m----> 1\u001b[0m \u001b[43mA\u001b[49m\u001b[38;5;241;43m-\u001b[39;49m\u001b[43mB\u001b[49m\n",
      "\u001b[0;31mValueError\u001b[0m: operands could not be broadcast together with shapes (5,4) (6,5) "
     ]
    }
   ],
   "source": [
    "A-B"
   ]
  },
  {
   "cell_type": "code",
   "execution_count": null,
   "id": "58eb7c3e-4cb9-46cf-972e-b875cdef7c8d",
   "metadata": {},
   "outputs": [
    {
     "ename": "ValueError",
     "evalue": "matmul: Input operand 1 has a mismatch in its core dimension 0, with gufunc signature (n?,k),(k,m?)->(n?,m?) (size 6 is different from 4)",
     "output_type": "error",
     "traceback": [
      "\u001b[0;31m---------------------------------------------------------------------------\u001b[0m",
      "\u001b[0;31mValueError\u001b[0m                                Traceback (most recent call last)",
      "Input \u001b[0;32mIn [36]\u001b[0m, in \u001b[0;36m<cell line: 1>\u001b[0;34m()\u001b[0m\n\u001b[0;32m----> 1\u001b[0m \u001b[43mA\u001b[49m\u001b[38;5;129;43m@B\u001b[39;49m\n",
      "\u001b[0;31mValueError\u001b[0m: matmul: Input operand 1 has a mismatch in its core dimension 0, with gufunc signature (n?,k),(k,m?)->(n?,m?) (size 6 is different from 4)"
     ]
    }
   ],
   "source": [
    "A@B"
   ]
  },
  {
   "cell_type": "code",
   "execution_count": null,
   "id": "c5547ffb-3783-4795-85d0-7a4b8cd94b2a",
   "metadata": {},
   "outputs": [
    {
     "data": {
      "text/plain": [
       "array([[ 1.,  2.,  1.,  2.],\n",
       "       [ 3.,  2.,  3.,  8.],\n",
       "       [-3.,  4.,  1.,  6.],\n",
       "       [ 1.,  2.,  2.,  1.],\n",
       "       [ 3.,  2.,  3.,  8.],\n",
       "       [ 3.,  2.,  3.,  8.]])"
      ]
     },
     "execution_count": 37,
     "metadata": {},
     "output_type": "execute_result"
    }
   ],
   "source": [
    "B@A"
   ]
  },
  {
   "cell_type": "code",
   "execution_count": null,
   "id": "2cdc18e5-e3dd-440b-ab1a-c85d947eb873",
   "metadata": {},
   "outputs": [
    {
     "ename": "ValueError",
     "evalue": "operands could not be broadcast together with shapes (6,5) (5,4) ",
     "output_type": "error",
     "traceback": [
      "\u001b[0;31m---------------------------------------------------------------------------\u001b[0m",
      "\u001b[0;31mValueError\u001b[0m                                Traceback (most recent call last)",
      "Input \u001b[0;32mIn [38]\u001b[0m, in \u001b[0;36m<cell line: 1>\u001b[0;34m()\u001b[0m\n\u001b[0;32m----> 1\u001b[0m \u001b[43mB\u001b[49m\u001b[38;5;241;43m+\u001b[39;49m\u001b[43mA\u001b[49m\n",
      "\u001b[0;31mValueError\u001b[0m: operands could not be broadcast together with shapes (6,5) (5,4) "
     ]
    }
   ],
   "source": [
    "B+A"
   ]
  },
  {
   "cell_type": "code",
   "execution_count": null,
   "id": "7c941a9d-da14-42e9-aad7-25ae3bc8b89a",
   "metadata": {},
   "outputs": [
    {
     "ename": "LinAlgError",
     "evalue": "Last 2 dimensions of the array must be square",
     "output_type": "error",
     "traceback": [
      "\u001b[0;31m---------------------------------------------------------------------------\u001b[0m",
      "\u001b[0;31mLinAlgError\u001b[0m                               Traceback (most recent call last)",
      "Input \u001b[0;32mIn [39]\u001b[0m, in \u001b[0;36m<cell line: 1>\u001b[0;34m()\u001b[0m\n\u001b[0;32m----> 1\u001b[0m A\u001b[38;5;129m@np\u001b[39m\u001b[38;5;241;43m.\u001b[39;49m\u001b[43mlinalg\u001b[49m\u001b[38;5;241;43m.\u001b[39;49m\u001b[43minv\u001b[49m\u001b[43m(\u001b[49m\u001b[43mB\u001b[49m\u001b[43m)\u001b[49m\n",
      "File \u001b[0;32m<__array_function__ internals>:5\u001b[0m, in \u001b[0;36minv\u001b[0;34m(*args, **kwargs)\u001b[0m\n",
      "File \u001b[0;32m~/opt/anaconda3/lib/python3.9/site-packages/numpy/linalg/linalg.py:540\u001b[0m, in \u001b[0;36minv\u001b[0;34m(a)\u001b[0m\n\u001b[1;32m    538\u001b[0m a, wrap \u001b[38;5;241m=\u001b[39m _makearray(a)\n\u001b[1;32m    539\u001b[0m _assert_stacked_2d(a)\n\u001b[0;32m--> 540\u001b[0m \u001b[43m_assert_stacked_square\u001b[49m\u001b[43m(\u001b[49m\u001b[43ma\u001b[49m\u001b[43m)\u001b[49m\n\u001b[1;32m    541\u001b[0m t, result_t \u001b[38;5;241m=\u001b[39m _commonType(a)\n\u001b[1;32m    543\u001b[0m signature \u001b[38;5;241m=\u001b[39m \u001b[38;5;124m'\u001b[39m\u001b[38;5;124mD->D\u001b[39m\u001b[38;5;124m'\u001b[39m \u001b[38;5;28;01mif\u001b[39;00m isComplexType(t) \u001b[38;5;28;01melse\u001b[39;00m \u001b[38;5;124m'\u001b[39m\u001b[38;5;124md->d\u001b[39m\u001b[38;5;124m'\u001b[39m\n",
      "File \u001b[0;32m~/opt/anaconda3/lib/python3.9/site-packages/numpy/linalg/linalg.py:203\u001b[0m, in \u001b[0;36m_assert_stacked_square\u001b[0;34m(*arrays)\u001b[0m\n\u001b[1;32m    201\u001b[0m m, n \u001b[38;5;241m=\u001b[39m a\u001b[38;5;241m.\u001b[39mshape[\u001b[38;5;241m-\u001b[39m\u001b[38;5;241m2\u001b[39m:]\n\u001b[1;32m    202\u001b[0m \u001b[38;5;28;01mif\u001b[39;00m m \u001b[38;5;241m!=\u001b[39m n:\n\u001b[0;32m--> 203\u001b[0m     \u001b[38;5;28;01mraise\u001b[39;00m LinAlgError(\u001b[38;5;124m'\u001b[39m\u001b[38;5;124mLast 2 dimensions of the array must be square\u001b[39m\u001b[38;5;124m'\u001b[39m)\n",
      "\u001b[0;31mLinAlgError\u001b[0m: Last 2 dimensions of the array must be square"
     ]
    }
   ],
   "source": [
    "A@np.linalg.inv(A)"
   ]
  },
  {
   "cell_type": "code",
   "execution_count": null,
   "id": "d15353de-aad8-4057-9ae0-744cd26749c2",
   "metadata": {},
   "outputs": [],
   "source": []
  }
 ],
 "metadata": {
  "kernelspec": {
   "display_name": "Python 3 (ipykernel)",
   "language": "python",
   "name": "python3"
  },
  "language_info": {
   "codemirror_mode": {
    "name": "ipython",
    "version": 3
   },
   "file_extension": ".py",
   "mimetype": "text/x-python",
   "name": "python",
   "nbconvert_exporter": "python",
   "pygments_lexer": "ipython3",
   "version": "3.9.12"
  }
 },
 "nbformat": 4,
 "nbformat_minor": 5
}
